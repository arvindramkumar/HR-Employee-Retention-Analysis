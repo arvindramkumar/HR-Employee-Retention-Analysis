{
 "cells": [
  {
   "cell_type": "markdown",
   "metadata": {},
   "source": [
    "# Diamond Resorts Data Science Take Home Case Study"
   ]
  },
  {
   "cell_type": "markdown",
   "metadata": {},
   "source": [
    "#### ------------------------------------------------------------------------------------------------------------------------------------------------------------------"
   ]
  },
  {
   "cell_type": "markdown",
   "metadata": {},
   "source": [
    "## Arvind Ramkumar \n",
    "### Email - aramkum4@asu.edu | arvindramkumar1996@gmail.com\n",
    "### Contact - 4808592393"
   ]
  },
  {
   "cell_type": "markdown",
   "metadata": {},
   "source": [
    "### -----------------------------------------------------------------------------------------------------------------------------------"
   ]
  },
  {
   "cell_type": "markdown",
   "metadata": {},
   "source": [
    "### Import Packages "
   ]
  },
  {
   "cell_type": "code",
   "execution_count": 654,
   "metadata": {},
   "outputs": [],
   "source": [
    "import pandas as pd\n",
    "import numpy as np"
   ]
  },
  {
   "cell_type": "markdown",
   "metadata": {},
   "source": [
    "### Import Dataset "
   ]
  },
  {
   "cell_type": "code",
   "execution_count": 655,
   "metadata": {},
   "outputs": [],
   "source": [
    "# For easier importing of data, I have created a csv file with just the data \n",
    "\n",
    "df = pd.read_csv('data.csv')"
   ]
  },
  {
   "cell_type": "markdown",
   "metadata": {},
   "source": [
    "### Understanding the Data  "
   ]
  },
  {
   "cell_type": "code",
   "execution_count": 656,
   "metadata": {},
   "outputs": [
    {
     "data": {
      "text/html": [
       "<div>\n",
       "<style scoped>\n",
       "    .dataframe tbody tr th:only-of-type {\n",
       "        vertical-align: middle;\n",
       "    }\n",
       "\n",
       "    .dataframe tbody tr th {\n",
       "        vertical-align: top;\n",
       "    }\n",
       "\n",
       "    .dataframe thead th {\n",
       "        text-align: right;\n",
       "    }\n",
       "</style>\n",
       "<table border=\"1\" class=\"dataframe\">\n",
       "  <thead>\n",
       "    <tr style=\"text-align: right;\">\n",
       "      <th></th>\n",
       "      <th>Age</th>\n",
       "      <th>Attrition</th>\n",
       "      <th>BusinessTravel</th>\n",
       "      <th>Department</th>\n",
       "      <th>DistanceFromHome</th>\n",
       "      <th>EmployeeNumber</th>\n",
       "      <th>JobLevel</th>\n",
       "      <th>JobRole</th>\n",
       "      <th>JobSatisfaction</th>\n",
       "      <th>MonthlyIncome</th>\n",
       "      <th>NumCompaniesWorked</th>\n",
       "      <th>YearsAtCompany</th>\n",
       "    </tr>\n",
       "  </thead>\n",
       "  <tbody>\n",
       "    <tr>\n",
       "      <th>0</th>\n",
       "      <td>41</td>\n",
       "      <td>Yes</td>\n",
       "      <td>Travel_Rarely</td>\n",
       "      <td>Sales</td>\n",
       "      <td>1</td>\n",
       "      <td>1</td>\n",
       "      <td>2</td>\n",
       "      <td>Sales Executive</td>\n",
       "      <td>4</td>\n",
       "      <td>5993</td>\n",
       "      <td>8</td>\n",
       "      <td>6</td>\n",
       "    </tr>\n",
       "    <tr>\n",
       "      <th>1</th>\n",
       "      <td>49</td>\n",
       "      <td>No</td>\n",
       "      <td>Travel_Frequently</td>\n",
       "      <td>Research &amp; Development</td>\n",
       "      <td>8</td>\n",
       "      <td>2</td>\n",
       "      <td>2</td>\n",
       "      <td>Research Scientist</td>\n",
       "      <td>2</td>\n",
       "      <td>5130</td>\n",
       "      <td>1</td>\n",
       "      <td>10</td>\n",
       "    </tr>\n",
       "    <tr>\n",
       "      <th>2</th>\n",
       "      <td>37</td>\n",
       "      <td>Yes</td>\n",
       "      <td>Travel_Rarely</td>\n",
       "      <td>Research &amp; Development</td>\n",
       "      <td>2</td>\n",
       "      <td>4</td>\n",
       "      <td>1</td>\n",
       "      <td>Laboratory Technician</td>\n",
       "      <td>3</td>\n",
       "      <td>2090</td>\n",
       "      <td>6</td>\n",
       "      <td>0</td>\n",
       "    </tr>\n",
       "    <tr>\n",
       "      <th>3</th>\n",
       "      <td>33</td>\n",
       "      <td>No</td>\n",
       "      <td>Travel_Frequently</td>\n",
       "      <td>Research &amp; Development</td>\n",
       "      <td>3</td>\n",
       "      <td>5</td>\n",
       "      <td>1</td>\n",
       "      <td>Research Scientist</td>\n",
       "      <td>3</td>\n",
       "      <td>2909</td>\n",
       "      <td>1</td>\n",
       "      <td>8</td>\n",
       "    </tr>\n",
       "    <tr>\n",
       "      <th>4</th>\n",
       "      <td>27</td>\n",
       "      <td>No</td>\n",
       "      <td>Travel_Rarely</td>\n",
       "      <td>Research &amp; Development</td>\n",
       "      <td>2</td>\n",
       "      <td>7</td>\n",
       "      <td>1</td>\n",
       "      <td>Laboratory Technician</td>\n",
       "      <td>2</td>\n",
       "      <td>3468</td>\n",
       "      <td>9</td>\n",
       "      <td>2</td>\n",
       "    </tr>\n",
       "  </tbody>\n",
       "</table>\n",
       "</div>"
      ],
      "text/plain": [
       "   Age Attrition     BusinessTravel              Department  DistanceFromHome  \\\n",
       "0   41       Yes      Travel_Rarely                   Sales                 1   \n",
       "1   49        No  Travel_Frequently  Research & Development                 8   \n",
       "2   37       Yes      Travel_Rarely  Research & Development                 2   \n",
       "3   33        No  Travel_Frequently  Research & Development                 3   \n",
       "4   27        No      Travel_Rarely  Research & Development                 2   \n",
       "\n",
       "   EmployeeNumber  JobLevel                JobRole  JobSatisfaction  \\\n",
       "0               1         2        Sales Executive                4   \n",
       "1               2         2     Research Scientist                2   \n",
       "2               4         1  Laboratory Technician                3   \n",
       "3               5         1     Research Scientist                3   \n",
       "4               7         1  Laboratory Technician                2   \n",
       "\n",
       "   MonthlyIncome  NumCompaniesWorked  YearsAtCompany  \n",
       "0           5993                   8               6  \n",
       "1           5130                   1              10  \n",
       "2           2090                   6               0  \n",
       "3           2909                   1               8  \n",
       "4           3468                   9               2  "
      ]
     },
     "execution_count": 656,
     "metadata": {},
     "output_type": "execute_result"
    }
   ],
   "source": [
    "df.head()"
   ]
  },
  {
   "cell_type": "code",
   "execution_count": 657,
   "metadata": {},
   "outputs": [
    {
     "name": "stdout",
     "output_type": "stream",
     "text": [
      "Shape\n",
      "(1470, 12)\n",
      "\n",
      "\n",
      "Info\n",
      "<class 'pandas.core.frame.DataFrame'>\n",
      "RangeIndex: 1470 entries, 0 to 1469\n",
      "Data columns (total 12 columns):\n",
      "Age                   1470 non-null int64\n",
      "Attrition             1470 non-null object\n",
      "BusinessTravel        1470 non-null object\n",
      "Department            1470 non-null object\n",
      "DistanceFromHome      1470 non-null int64\n",
      "EmployeeNumber        1470 non-null int64\n",
      "JobLevel              1470 non-null int64\n",
      "JobRole               1470 non-null object\n",
      "JobSatisfaction       1470 non-null int64\n",
      "MonthlyIncome         1470 non-null int64\n",
      "NumCompaniesWorked    1470 non-null int64\n",
      "YearsAtCompany        1470 non-null int64\n",
      "dtypes: int64(8), object(4)\n",
      "memory usage: 137.9+ KB\n",
      "None\n",
      "\n",
      "\n",
      "Data Types\n",
      "Age                    int64\n",
      "Attrition             object\n",
      "BusinessTravel        object\n",
      "Department            object\n",
      "DistanceFromHome       int64\n",
      "EmployeeNumber         int64\n",
      "JobLevel               int64\n",
      "JobRole               object\n",
      "JobSatisfaction        int64\n",
      "MonthlyIncome          int64\n",
      "NumCompaniesWorked     int64\n",
      "YearsAtCompany         int64\n",
      "dtype: object\n"
     ]
    }
   ],
   "source": [
    "print('Shape')\n",
    "print(df.shape)\n",
    "print('\\n')\n",
    "print('Info')\n",
    "print(df.info())\n",
    "print('\\n')\n",
    "print('Data Types')\n",
    "print(df.dtypes)"
   ]
  },
  {
   "cell_type": "markdown",
   "metadata": {},
   "source": [
    "### Influence of Each Variable on Attrition "
   ]
  },
  {
   "cell_type": "markdown",
   "metadata": {},
   "source": [
    "####  Age"
   ]
  },
  {
   "cell_type": "code",
   "execution_count": 658,
   "metadata": {},
   "outputs": [
    {
     "data": {
      "image/png": "[encoded data removed]",
      "text/plain": [
       "<Figure size 432x288 with 1 Axes>"
      ]
     },
     "metadata": {},
     "output_type": "display_data"
    }
   ],
   "source": [
    "boxplot = df.boxplot(column='Age', by='Attrition')"
   ]
  },
  {
   "cell_type": "markdown",
   "metadata": {},
   "source": [
    "The average age of people leaving the company is around 33. But, technically the average age of employee staying in the company is greater than the average age of employee leaving company. This is possible because at young age, the employee tend to jump between companies for a better position and better pay. "
   ]
  },
  {
   "cell_type": "markdown",
   "metadata": {},
   "source": [
    "#### Business Travel "
   ]
  },
  {
   "cell_type": "code",
   "execution_count": 659,
   "metadata": {},
   "outputs": [
    {
     "data": {
      "image/png": "[encoded data removed]",
      "text/plain": [
       "<Figure size 432x288 with 1 Axes>"
      ]
     },
     "metadata": {},
     "output_type": "display_data"
    }
   ],
   "source": [
    "fig, ax= plt.subplots()\n",
    "propcountfig1 = sns.countplot(x='BusinessTravel',hue='Attrition', data =df)\n",
    "sns.set(style=\"whitegrid\")\n",
    "plt.xlabel(\"Business TRavel\")\n",
    "plt.ylabel(\"Count\")\n",
    "plt.title(\"Effect of Business Travel on Attrition\")\n",
    "plt.show(propcountfig1)"
   ]
  },
  {
   "cell_type": "markdown",
   "metadata": {},
   "source": [
    "The necessity for business travel doesn't seem to affect the attrition. There might be a slight impact on the Class Travel_Frequently. But it's quite uncertain"
   ]
  },
  {
   "cell_type": "markdown",
   "metadata": {},
   "source": [
    "#### Department  "
   ]
  },
  {
   "cell_type": "code",
   "execution_count": 660,
   "metadata": {},
   "outputs": [
    {
     "data": {
      "image/png": "[encoded data removed]",
      "text/plain": [
       "<Figure size 432x288 with 1 Axes>"
      ]
     },
     "metadata": {},
     "output_type": "display_data"
    }
   ],
   "source": [
    "fig, ax= plt.subplots()\n",
    "propcountfig2 = sns.countplot(x='Department',hue='Attrition', data =df)\n",
    "sns.set(style=\"whitegrid\")\n",
    "plt.xlabel(\"Department\")\n",
    "plt.ylabel(\"Count\")\n",
    "plt.title(\"Effect of Department on Attrition\")\n",
    "plt.show(propcountfig2)"
   ]
  },
  {
   "cell_type": "markdown",
   "metadata": {},
   "source": [
    "The type of department in which the employee works doesn't seem to affect the Attrition a lot "
   ]
  },
  {
   "cell_type": "markdown",
   "metadata": {},
   "source": [
    "#### Distance From Home  "
   ]
  },
  {
   "cell_type": "code",
   "execution_count": 661,
   "metadata": {},
   "outputs": [
    {
     "data": {
      "image/png": "[encoded data removed]",
      "text/plain": [
       "<Figure size 432x288 with 1 Axes>"
      ]
     },
     "metadata": {},
     "output_type": "display_data"
    }
   ],
   "source": [
    "boxplot = df.boxplot(column='DistanceFromHome', by='Attrition')"
   ]
  },
  {
   "cell_type": "markdown",
   "metadata": {},
   "source": [
    "Distance from home is one particular factor under most consideration. This is because, if their home is located at a very longer distance, they might find it hard to commute and higher possiblity for moving to another job which is closer to where they live. \n",
    "\n",
    "This could be seen from the above boxplot very clearly. Average distance traveled by employees who left is higher than the Average distance traveled by employees who haven't left the job"
   ]
  },
  {
   "cell_type": "markdown",
   "metadata": {},
   "source": [
    "#### Job Level "
   ]
  },
  {
   "cell_type": "code",
   "execution_count": 662,
   "metadata": {},
   "outputs": [
    {
     "data": {
      "image/png": "[encoded data removed]",
      "text/plain": [
       "<Figure size 432x288 with 1 Axes>"
      ]
     },
     "metadata": {},
     "output_type": "display_data"
    }
   ],
   "source": [
    "fig, ax= plt.subplots()\n",
    "propcountfig3 = sns.countplot(x='JobLevel',hue='Attrition', data =df)\n",
    "sns.set(style=\"whitegrid\")\n",
    "plt.xlabel(\"JobLevel\")\n",
    "plt.ylabel(\"Count\")\n",
    "plt.title(\"Effect of JobLevel on Attrition\")\n",
    "plt.show(propcountfig3)"
   ]
  },
  {
   "cell_type": "markdown",
   "metadata": {},
   "source": [
    "With the perspective of the job level, the Job Level seem to have a higher concentration of people leaving the job. At a low job level, probably the job might be a temporary with low pay. So, probably the employee jump between companies"
   ]
  },
  {
   "cell_type": "markdown",
   "metadata": {},
   "source": [
    "#### Job Role  "
   ]
  },
  {
   "cell_type": "code",
   "execution_count": 663,
   "metadata": {},
   "outputs": [
    {
     "data": {
      "image/png": "[encoded data removed]",
      "text/plain": [
       "<Figure size 1440x720 with 1 Axes>"
      ]
     },
     "metadata": {},
     "output_type": "display_data"
    }
   ],
   "source": [
    "fig, ax= plt.subplots(figsize=(20,10))\n",
    "propcountfig4 = sns.countplot(x='JobRole',hue='Attrition', data =df)\n",
    "sns.set(style=\"whitegrid\")\n",
    "plt.xlabel(\"JobRole\")\n",
    "plt.ylabel(\"Count\")\n",
    "plt.title(\"Effect of JobRole on Attrition\")\n",
    "plt.show(propcountfig4)"
   ]
  },
  {
   "cell_type": "markdown",
   "metadata": {},
   "source": [
    "Since there are so many jobroles, it's not certain to visually come to conclusion at first instance. More analysis is required. But Sales executive, Research Scientist, Lab Technician contribute to the majority of the employee who leave "
   ]
  },
  {
   "cell_type": "markdown",
   "metadata": {},
   "source": [
    "#### Job Statisfaction "
   ]
  },
  {
   "cell_type": "code",
   "execution_count": 664,
   "metadata": {},
   "outputs": [
    {
     "data": {
      "image/png": "[encoded data removed]",
      "text/plain": [
       "<Figure size 432x288 with 1 Axes>"
      ]
     },
     "metadata": {},
     "output_type": "display_data"
    }
   ],
   "source": [
    "fig, ax= plt.subplots()\n",
    "propcountfig5 = sns.countplot(x='JobSatisfaction',hue='Attrition', data =df)\n",
    "sns.set(style=\"whitegrid\")\n",
    "plt.xlabel(\"JobSatisfaction\")\n",
    "plt.ylabel(\"Count\")\n",
    "plt.title(\"Effect of JobSatisfaction on Attrition\")\n",
    "plt.show(propcountfig5)"
   ]
  },
  {
   "cell_type": "markdown",
   "metadata": {},
   "source": [
    "It is quite obvious that the employee with higher job statisfaction tend to stay in the job longer. It is also obvious from the graph"
   ]
  },
  {
   "cell_type": "markdown",
   "metadata": {},
   "source": [
    "#### Monthly Income  "
   ]
  },
  {
   "cell_type": "markdown",
   "metadata": {},
   "source": [
    "##### Box Plot "
   ]
  },
  {
   "cell_type": "code",
   "execution_count": 665,
   "metadata": {},
   "outputs": [
    {
     "data": {
      "image/png": "[encoded data removed]",
      "text/plain": [
       "<Figure size 432x288 with 1 Axes>"
      ]
     },
     "metadata": {},
     "output_type": "display_data"
    }
   ],
   "source": [
    "boxplot = df.boxplot(column='MonthlyIncome', by='Attrition')"
   ]
  },
  {
   "cell_type": "markdown",
   "metadata": {},
   "source": [
    "Supposedly, Monthly Income is a most important factor. Average salary of Employee who leave is much lesser than Average Salary of Employee who do not leave. But another thing to note is the presence of so many outliers. So these outliers might affect our result. So further analysis is suggested for this factor. "
   ]
  },
  {
   "cell_type": "markdown",
   "metadata": {},
   "source": [
    "###### Distribution "
   ]
  },
  {
   "cell_type": "code",
   "execution_count": 666,
   "metadata": {},
   "outputs": [
    {
     "name": "stderr",
     "output_type": "stream",
     "text": [
      "/Users/arvindramkumar/anaconda3/lib/python3.6/site-packages/matplotlib/axes/_axes.py:6462: UserWarning: The 'normed' kwarg is deprecated, and has been replaced by the 'density' kwarg.\n",
      "  warnings.warn(\"The 'normed' kwarg is deprecated, and has been \"\n",
      "/Users/arvindramkumar/anaconda3/lib/python3.6/site-packages/ipykernel_launcher.py:7: MatplotlibDeprecationWarning: scipy.stats.norm.pdf\n",
      "  import sys\n"
     ]
    },
    {
     "data": {
      "image/png": "[encoded data removed]",
      "text/plain": [
       "<Figure size 432x288 with 1 Axes>"
      ]
     },
     "metadata": {},
     "output_type": "display_data"
    }
   ],
   "source": [
    "from matplotlib import pyplot as plt\n",
    "import matplotlib.mlab as mlab\n",
    "\n",
    "n, bins, patches = plt.hist(df.MonthlyIncome, 50, normed=1)\n",
    "mu = np.mean(df.MonthlyIncome)\n",
    "sigma = np.std(df.MonthlyIncome)\n",
    "plt.plot(bins, mlab.normpdf(bins, mu, sigma))\n",
    "plt.title('Distribution of Monthly Income')\n",
    "plt.show()"
   ]
  },
  {
   "cell_type": "markdown",
   "metadata": {},
   "source": [
    "The distribution will help us understand that there is a skewness, indicating that there are only less number of employees who receive higher salaries"
   ]
  },
  {
   "cell_type": "markdown",
   "metadata": {},
   "source": [
    "#### Number of Companies Worked "
   ]
  },
  {
   "cell_type": "code",
   "execution_count": 667,
   "metadata": {},
   "outputs": [
    {
     "data": {
      "image/png": "[encoded data removed]",
      "text/plain": [
       "<Figure size 1440x720 with 1 Axes>"
      ]
     },
     "metadata": {},
     "output_type": "display_data"
    }
   ],
   "source": [
    "fig, ax= plt.subplots(figsize=(20,10))\n",
    "propcountfig6 = sns.countplot(x='NumCompaniesWorked',hue='Attrition', data =df)\n",
    "sns.set(style=\"whitegrid\")\n",
    "plt.xlabel(\"Number of Companies\")\n",
    "plt.ylabel(\"Count\")\n",
    "plt.title(\"Effect of Number of Worked on Attrition\")\n",
    "plt.show(propcountfig6)"
   ]
  },
  {
   "cell_type": "markdown",
   "metadata": {},
   "source": [
    "The ratio of number of employee leave the company to the number of employee stay is almost pretty much constant. "
   ]
  },
  {
   "cell_type": "markdown",
   "metadata": {},
   "source": [
    "#### Years at Company  "
   ]
  },
  {
   "cell_type": "code",
   "execution_count": 668,
   "metadata": {},
   "outputs": [
    {
     "data": {
      "image/png": "[encoded data removed]",
      "text/plain": [
       "<Figure size 1440x720 with 1 Axes>"
      ]
     },
     "metadata": {},
     "output_type": "display_data"
    }
   ],
   "source": [
    "fig, ax= plt.subplots(figsize=(20,10))\n",
    "propcountfig6 = sns.countplot(x='YearsAtCompany',hue='Attrition', data =df)\n",
    "sns.set(style=\"whitegrid\")\n",
    "plt.xlabel(\"Number of Years at Company\")\n",
    "plt.ylabel(\"Count\")\n",
    "plt.title(\"Effect of Number of Years at Company on Attrition\")\n",
    "plt.show(propcountfig6)"
   ]
  },
  {
   "cell_type": "markdown",
   "metadata": {},
   "source": [
    "Because of so many categories, we need to do further analysis to reach any conclusion"
   ]
  },
  {
   "cell_type": "markdown",
   "metadata": {},
   "source": [
    "### Correlation between variables "
   ]
  },
  {
   "cell_type": "code",
   "execution_count": 669,
   "metadata": {},
   "outputs": [
    {
     "data": {
      "image/png": "[encoded data removed]",
      "text/plain": [
       "<Figure size 864x720 with 2 Axes>"
      ]
     },
     "metadata": {},
     "output_type": "display_data"
    }
   ],
   "source": [
    "# Correlation between the variables \n",
    "\n",
    "corr = df.corr()\n",
    "%matplotlib inline\n",
    "import seaborn as sns\n",
    "\n",
    "fig, ax= plt.subplots(figsize=(12,10))\n",
    "corre = sns.heatmap(corr, annot = True)\n",
    "sns.set(style=\"whitegrid\")\n",
    "plt.title(\"Correlation between variables\")\n",
    "plt.show(corre)"
   ]
  },
  {
   "cell_type": "markdown",
   "metadata": {},
   "source": [
    "From correlation plot, one thing that's so much clear is that the monlthy income has high correlation with the Job level and that seems pretty straight forward. "
   ]
  },
  {
   "cell_type": "markdown",
   "metadata": {},
   "source": [
    "### Data Preprocessing  "
   ]
  },
  {
   "cell_type": "markdown",
   "metadata": {},
   "source": [
    "#### Coding the Categorical Variables into Numericals  "
   ]
  },
  {
   "cell_type": "code",
   "execution_count": 670,
   "metadata": {},
   "outputs": [
    {
     "data": {
      "text/html": [
       "<div>\n",
       "<style scoped>\n",
       "    .dataframe tbody tr th:only-of-type {\n",
       "        vertical-align: middle;\n",
       "    }\n",
       "\n",
       "    .dataframe tbody tr th {\n",
       "        vertical-align: top;\n",
       "    }\n",
       "\n",
       "    .dataframe thead th {\n",
       "        text-align: right;\n",
       "    }\n",
       "</style>\n",
       "<table border=\"1\" class=\"dataframe\">\n",
       "  <thead>\n",
       "    <tr style=\"text-align: right;\">\n",
       "      <th></th>\n",
       "      <th>Age</th>\n",
       "      <th>Attrition</th>\n",
       "      <th>BusinessTravel</th>\n",
       "      <th>Department</th>\n",
       "      <th>DistanceFromHome</th>\n",
       "      <th>EmployeeNumber</th>\n",
       "      <th>JobLevel</th>\n",
       "      <th>JobRole</th>\n",
       "      <th>JobSatisfaction</th>\n",
       "      <th>MonthlyIncome</th>\n",
       "      <th>NumCompaniesWorked</th>\n",
       "      <th>YearsAtCompany</th>\n",
       "    </tr>\n",
       "  </thead>\n",
       "  <tbody>\n",
       "    <tr>\n",
       "      <th>0</th>\n",
       "      <td>41</td>\n",
       "      <td>1</td>\n",
       "      <td>2</td>\n",
       "      <td>2</td>\n",
       "      <td>1</td>\n",
       "      <td>1</td>\n",
       "      <td>2</td>\n",
       "      <td>7</td>\n",
       "      <td>4</td>\n",
       "      <td>5993</td>\n",
       "      <td>8</td>\n",
       "      <td>6</td>\n",
       "    </tr>\n",
       "    <tr>\n",
       "      <th>1</th>\n",
       "      <td>49</td>\n",
       "      <td>0</td>\n",
       "      <td>1</td>\n",
       "      <td>1</td>\n",
       "      <td>8</td>\n",
       "      <td>2</td>\n",
       "      <td>2</td>\n",
       "      <td>6</td>\n",
       "      <td>2</td>\n",
       "      <td>5130</td>\n",
       "      <td>1</td>\n",
       "      <td>10</td>\n",
       "    </tr>\n",
       "    <tr>\n",
       "      <th>2</th>\n",
       "      <td>37</td>\n",
       "      <td>1</td>\n",
       "      <td>2</td>\n",
       "      <td>1</td>\n",
       "      <td>2</td>\n",
       "      <td>4</td>\n",
       "      <td>1</td>\n",
       "      <td>2</td>\n",
       "      <td>3</td>\n",
       "      <td>2090</td>\n",
       "      <td>6</td>\n",
       "      <td>0</td>\n",
       "    </tr>\n",
       "    <tr>\n",
       "      <th>3</th>\n",
       "      <td>33</td>\n",
       "      <td>0</td>\n",
       "      <td>1</td>\n",
       "      <td>1</td>\n",
       "      <td>3</td>\n",
       "      <td>5</td>\n",
       "      <td>1</td>\n",
       "      <td>6</td>\n",
       "      <td>3</td>\n",
       "      <td>2909</td>\n",
       "      <td>1</td>\n",
       "      <td>8</td>\n",
       "    </tr>\n",
       "    <tr>\n",
       "      <th>4</th>\n",
       "      <td>27</td>\n",
       "      <td>0</td>\n",
       "      <td>2</td>\n",
       "      <td>1</td>\n",
       "      <td>2</td>\n",
       "      <td>7</td>\n",
       "      <td>1</td>\n",
       "      <td>2</td>\n",
       "      <td>2</td>\n",
       "      <td>3468</td>\n",
       "      <td>9</td>\n",
       "      <td>2</td>\n",
       "    </tr>\n",
       "  </tbody>\n",
       "</table>\n",
       "</div>"
      ],
      "text/plain": [
       "   Age  Attrition  BusinessTravel  Department  DistanceFromHome  \\\n",
       "0   41          1               2           2                 1   \n",
       "1   49          0               1           1                 8   \n",
       "2   37          1               2           1                 2   \n",
       "3   33          0               1           1                 3   \n",
       "4   27          0               2           1                 2   \n",
       "\n",
       "   EmployeeNumber  JobLevel  JobRole  JobSatisfaction  MonthlyIncome  \\\n",
       "0               1         2        7                4           5993   \n",
       "1               2         2        6                2           5130   \n",
       "2               4         1        2                3           2090   \n",
       "3               5         1        6                3           2909   \n",
       "4               7         1        2                2           3468   \n",
       "\n",
       "   NumCompaniesWorked  YearsAtCompany  \n",
       "0                   8               6  \n",
       "1                   1              10  \n",
       "2                   6               0  \n",
       "3                   1               8  \n",
       "4                   9               2  "
      ]
     },
     "execution_count": 670,
     "metadata": {},
     "output_type": "execute_result"
    }
   ],
   "source": [
    "from sklearn.preprocessing import LabelEncoder\n",
    "le = LabelEncoder()\n",
    "\n",
    "df['Attrition'] = le.fit_transform(df['Attrition'])\n",
    "df['BusinessTravel'] = le.fit_transform(df['BusinessTravel'])\n",
    "df['Department'] = le.fit_transform(df['Department'])\n",
    "df['JobRole'] = le.fit_transform(df['JobRole'])\n",
    "\n",
    "df.head()"
   ]
  },
  {
   "cell_type": "markdown",
   "metadata": {},
   "source": [
    "### Output Class Distribution  "
   ]
  },
  {
   "cell_type": "code",
   "execution_count": 671,
   "metadata": {},
   "outputs": [
    {
     "data": {
      "text/plain": [
       "<matplotlib.axes._subplots.AxesSubplot at 0x1c1fca0080>"
      ]
     },
     "execution_count": 671,
     "metadata": {},
     "output_type": "execute_result"
    },
    {
     "data": {
      "image/png": "[encoded data removed]",
      "text/plain": [
       "<Figure size 432x288 with 1 Axes>"
      ]
     },
     "metadata": {},
     "output_type": "display_data"
    }
   ],
   "source": [
    "# Now lets check the class distributions\n",
    "\n",
    "import matplotlib.pyplot as plt \n",
    "import seaborn as sns \n",
    "\n",
    "%matplotlib inline \n",
    "\n",
    "sns.countplot(\"Attrition\",data=df)"
   ]
  },
  {
   "cell_type": "markdown",
   "metadata": {},
   "source": [
    "### Approach for Analysis"
   ]
  },
  {
   "cell_type": "markdown",
   "metadata": {},
   "source": [
    "We need to decide the parameters that affects Attrition. We develop a Predictive Model and based on the P value of the variables, we will know the contribution of that parameter to the model. After deciding that, we can look on how that individual parameters affect the Attrition. \n",
    "\n",
    "We develop a Logistics Regression Prediction Model, because for a binary class output, Logistic Regression model performs better than any other model. So, we split the data into test and train. Develop an optimal Logistics Regression model with parameter fine tuning and then, we incorporate it for the full model. \n",
    "\n",
    "As there is a class imbalance, we use SMOTE Algorithm for the resampling. "
   ]
  },
  {
   "cell_type": "markdown",
   "metadata": {},
   "source": [
    "### Split Train and Test "
   ]
  },
  {
   "cell_type": "code",
   "execution_count": 672,
   "metadata": {},
   "outputs": [],
   "source": [
    "# Splitting the Train and Test Data \n",
    "\n",
    "from sklearn.model_selection import train_test_split\n",
    "\n",
    "data_train, data_test = train_test_split(df, test_size = 0.2, random_state = 123)"
   ]
  },
  {
   "cell_type": "code",
   "execution_count": 673,
   "metadata": {},
   "outputs": [],
   "source": [
    "# Train Data \n",
    "\n",
    "Xtrain = data_train.iloc[:, data_train.columns != 'Attrition']\n",
    "ytrain = data_train.iloc[:, data_train.columns == 'Attrition']\n",
    "\n",
    "# Test Data \n",
    "\n",
    "Xtest = data_test.iloc[:, data_test.columns != 'Attrition']\n",
    "ytest = data_test.iloc[:, data_test.columns == 'Attrition']"
   ]
  },
  {
   "cell_type": "markdown",
   "metadata": {},
   "source": [
    "#### Defining Function for Confusion Matrix "
   ]
  },
  {
   "cell_type": "code",
   "execution_count": 674,
   "metadata": {},
   "outputs": [],
   "source": [
    "import itertools\n",
    "\n",
    "def plot_confusion_matrix(cm, classes,\n",
    "                          normalize=False,\n",
    "                          title='Confusion matrix',\n",
    "                          cmap=plt.cm.Blues):\n",
    "    \"\"\"\n",
    "    This function prints and plots the confusion matrix.\n",
    "    Normalization can be applied by setting `normalize=True`.\n",
    "    \"\"\"\n",
    "    plt.imshow(cm, interpolation='nearest', cmap=cmap)\n",
    "    plt.title(title)\n",
    "    plt.colorbar()\n",
    "    tick_marks = np.arange(len(classes))\n",
    "    plt.xticks(tick_marks, classes, rotation=0)\n",
    "    plt.yticks(tick_marks, classes)\n",
    "\n",
    "    if normalize:\n",
    "        cm = cm.astype('float') / cm.sum(axis=1)[:, np.newaxis]\n",
    "        #print(\"Normalized confusion matrix\")\n",
    "    else:\n",
    "        1#print('Confusion matrix, without normalization')\n",
    "\n",
    "    #print(cm)\n",
    "\n",
    "    thresh = cm.max() / 2.\n",
    "    for i, j in itertools.product(range(cm.shape[0]), range(cm.shape[1])):\n",
    "        plt.text(j, i, cm[i, j],\n",
    "                 horizontalalignment=\"center\",\n",
    "                 color=\"white\" if cm[i, j] > thresh else \"black\")\n",
    "\n",
    "    plt.tight_layout()\n",
    "    plt.ylabel('True label')\n",
    "    plt.xlabel('Predicted label')"
   ]
  },
  {
   "cell_type": "markdown",
   "metadata": {},
   "source": [
    "### Resampling using SMOTE Algorithm "
   ]
  },
  {
   "cell_type": "code",
   "execution_count": 675,
   "metadata": {},
   "outputs": [
    {
     "name": "stdout",
     "output_type": "stream",
     "text": [
      "977\n",
      "977\n"
     ]
    },
    {
     "name": "stderr",
     "output_type": "stream",
     "text": [
      "/Users/arvindramkumar/anaconda3/lib/python3.6/site-packages/sklearn/utils/validation.py:761: DataConversionWarning: A column-vector y was passed when a 1d array was expected. Please change the shape of y to (n_samples, ), for example using ravel().\n",
      "  y = column_or_1d(y, warn=True)\n"
     ]
    }
   ],
   "source": [
    "from imblearn.over_sampling import SMOTE\n",
    "\n",
    "sm = SMOTE(random_state=12, ratio = 1.0)\n",
    "x_train_res, y_train_res = sm.fit_sample(Xtrain, ytrain)\n",
    "\n",
    "print(len(y_train_res[y_train_res==0]))\n",
    "print(len(y_train_res[y_train_res==1]))"
   ]
  },
  {
   "cell_type": "markdown",
   "metadata": {},
   "source": [
    "### Base Linear Regression Model "
   ]
  },
  {
   "cell_type": "code",
   "execution_count": 676,
   "metadata": {},
   "outputs": [],
   "source": [
    "from sklearn.linear_model import LogisticRegression\n",
    "\n",
    "model=LogisticRegression(random_state=123)\n",
    "model_fit=model.fit(x_train_res, y_train_res)\n",
    "y_pred=model.predict(Xtest)"
   ]
  },
  {
   "cell_type": "code",
   "execution_count": 677,
   "metadata": {},
   "outputs": [
    {
     "name": "stdout",
     "output_type": "stream",
     "text": [
      "accuracy 0.673469387755102\n",
      "\n",
      " classification report\n",
      "              precision    recall  f1-score   support\n",
      "\n",
      "           0       0.92      0.68      0.78       256\n",
      "           1       0.22      0.61      0.32        38\n",
      "\n",
      "   micro avg       0.67      0.67      0.67       294\n",
      "   macro avg       0.57      0.64      0.55       294\n",
      "weighted avg       0.83      0.67      0.73       294\n",
      "\n",
      "\n",
      " confusion matrix\n",
      "[[175  81]\n",
      " [ 15  23]]\n"
     ]
    },
    {
     "data": {
      "image/png": "[encoded data removed]",
      "text/plain": [
       "<Figure size 432x288 with 2 Axes>"
      ]
     },
     "metadata": {},
     "output_type": "display_data"
    },
    {
     "name": "stdout",
     "output_type": "stream",
     "text": [
      "\n",
      " Recall Metric in the testing dataset\n",
      "0.6052631578947368\n",
      "\n",
      " score_auc\n",
      "0.6444284539473684\n"
     ]
    },
    {
     "data": {
      "image/png": "[encoded data removed]",
      "text/plain": [
       "<Figure size 432x288 with 1 Axes>"
      ]
     },
     "metadata": {},
     "output_type": "display_data"
    }
   ],
   "source": [
    "from sklearn.metrics import classification_report,confusion_matrix,accuracy_score\n",
    "from sklearn.metrics import confusion_matrix,precision_recall_curve,auc,roc_auc_score,roc_curve,recall_score,classification_report \n",
    "\n",
    "print('accuracy',accuracy_score(ytest,y_pred))\n",
    "print('\\n classification report')\n",
    "print(classification_report(ytest,y_pred))\n",
    "print('\\n confusion matrix')\n",
    "print(confusion_matrix(ytest,y_pred))\n",
    "\n",
    "cnf_matrix = confusion_matrix(ytest,y_pred)\n",
    "\n",
    "class_names = [0,1]\n",
    "plt.figure()\n",
    "plot_confusion_matrix(cnf_matrix, classes=class_names, title='Confusion matrix')\n",
    "plt.show()\n",
    "\n",
    "print('\\n Recall Metric in the testing dataset')\n",
    "print(cnf_matrix[1,1]/(cnf_matrix[1,0]+cnf_matrix[1,1]))\n",
    "\n",
    "fpr,tpr,thresholds=roc_curve(ytest,y_pred)\n",
    "score_auc=roc_auc_score(ytest,y_pred)\n",
    "print('\\n score_auc')\n",
    "print(score_auc)\n",
    "\n",
    "# Plot ROC\n",
    "\n",
    "roc_auc = auc(fpr, tpr)\n",
    "plt.title('Receiver Operating Characteristic')\n",
    "plt.plot(fpr, tpr, 'b',label='AUC = %0.2f'% roc_auc)\n",
    "plt.legend(loc='lower right')\n",
    "plt.plot([0,1],[0,1],'r--')\n",
    "plt.xlim([-0.1,1.0])\n",
    "plt.ylim([-0.1,1.01])\n",
    "plt.ylabel('True Positive Rate')\n",
    "plt.xlabel('False Positive Rate')\n",
    "plt.show()"
   ]
  },
  {
   "cell_type": "markdown",
   "metadata": {},
   "source": [
    "### Grid Search to hypertune the Parameter - C "
   ]
  },
  {
   "cell_type": "code",
   "execution_count": 678,
   "metadata": {},
   "outputs": [
    {
     "name": "stdout",
     "output_type": "stream",
     "text": [
      "Best Parameters:{'C': 0.001}\n",
      "{'C': 0.001}\n"
     ]
    }
   ],
   "source": [
    "from sklearn.model_selection import GridSearchCV\n",
    "\n",
    "param_grid = {'C': [0.001, 0.01, 0.1, 1, 10, 100, 1000] }\n",
    "clf = GridSearchCV(LogisticRegression(penalty='l2'), param_grid)\n",
    "GridSearchCV(cv=None,\n",
    "             estimator=LogisticRegression(C=1.0, intercept_scaling=1,   \n",
    "               dual=False, fit_intercept=True, penalty='l2', tol=0.0001),\n",
    "             param_grid={'C': [0.001, 0.01, 0.1, 1, 10, 100, 1000]})\n",
    "\n",
    "import warnings\n",
    "warnings.filterwarnings(\"ignore\", category=FutureWarning)\n",
    "\n",
    "clf.fit(X=Xtrain, y=ytrain.values.ravel())\n",
    "print('Best Parameters:{}'.format(clf.best_params_))\n",
    "print(clf.best_params_)"
   ]
  },
  {
   "cell_type": "markdown",
   "metadata": {},
   "source": [
    "### Logistic Model with Optimal C "
   ]
  },
  {
   "cell_type": "code",
   "execution_count": 679,
   "metadata": {},
   "outputs": [],
   "source": [
    "from sklearn.linear_model import LogisticRegression\n",
    "\n",
    "model=LogisticRegression(random_state=123, C = 0.001)\n",
    "model_fit=model.fit(x_train_res, y_train_res)\n",
    "y_pred=model.predict(Xtest)"
   ]
  },
  {
   "cell_type": "code",
   "execution_count": 680,
   "metadata": {},
   "outputs": [
    {
     "name": "stdout",
     "output_type": "stream",
     "text": [
      "accuracy 0.6292517006802721\n",
      "\n",
      " classification report\n",
      "              precision    recall  f1-score   support\n",
      "\n",
      "           0       0.92      0.62      0.75       256\n",
      "           1       0.21      0.66      0.31        38\n",
      "\n",
      "   micro avg       0.63      0.63      0.63       294\n",
      "   macro avg       0.57      0.64      0.53       294\n",
      "weighted avg       0.83      0.63      0.69       294\n",
      "\n",
      "\n",
      " confusion matrix\n",
      "[[160  96]\n",
      " [ 13  25]]\n"
     ]
    },
    {
     "data": {
      "image/png": "[encoded data removed]",
      "text/plain": [
       "<Figure size 432x288 with 2 Axes>"
      ]
     },
     "metadata": {},
     "output_type": "display_data"
    },
    {
     "name": "stdout",
     "output_type": "stream",
     "text": [
      "\n",
      " Recall Metric in the testing dataset\n",
      "0.6578947368421053\n",
      "\n",
      " score_auc\n",
      "0.6414473684210527\n"
     ]
    },
    {
     "data": {
      "image/png": "[encoded data removed]",
      "text/plain": [
       "<Figure size 432x288 with 1 Axes>"
      ]
     },
     "metadata": {},
     "output_type": "display_data"
    }
   ],
   "source": [
    "from sklearn.metrics import classification_report,confusion_matrix,accuracy_score\n",
    "from sklearn.metrics import confusion_matrix,precision_recall_curve,auc,roc_auc_score,roc_curve,recall_score,classification_report \n",
    "\n",
    "print('accuracy',accuracy_score(ytest,y_pred))\n",
    "print('\\n classification report')\n",
    "print(classification_report(ytest,y_pred))\n",
    "print('\\n confusion matrix')\n",
    "print(confusion_matrix(ytest,y_pred))\n",
    "\n",
    "cnf_matrix = confusion_matrix(ytest,y_pred)\n",
    "\n",
    "class_names = [0,1]\n",
    "plt.figure()\n",
    "plot_confusion_matrix(cnf_matrix, classes=class_names, title='Confusion matrix')\n",
    "plt.show()\n",
    "\n",
    "print('\\n Recall Metric in the testing dataset')\n",
    "print(cnf_matrix[1,1]/(cnf_matrix[1,0]+cnf_matrix[1,1]))\n",
    "\n",
    "fpr,tpr,thresholds=roc_curve(ytest,y_pred)\n",
    "score_auc=roc_auc_score(ytest,y_pred)\n",
    "print('\\n score_auc')\n",
    "print(score_auc)\n",
    "\n",
    "# Plot ROC\n",
    "\n",
    "roc_auc = auc(fpr, tpr)\n",
    "plt.title('Receiver Operating Characteristic')\n",
    "plt.plot(fpr, tpr, 'b',label='AUC = %0.2f'% roc_auc)\n",
    "plt.legend(loc='lower right')\n",
    "plt.plot([0,1],[0,1],'r--')\n",
    "plt.xlim([-0.1,1.0])\n",
    "plt.ylim([-0.1,1.01])\n",
    "plt.ylabel('True Positive Rate')\n",
    "plt.xlabel('False Positive Rate')\n",
    "plt.show()"
   ]
  },
  {
   "cell_type": "markdown",
   "metadata": {},
   "source": [
    "### Comparing two Models "
   ]
  },
  {
   "cell_type": "markdown",
   "metadata": {},
   "source": [
    "\n",
    "| Model               | Recall | AUC |Test Accuracy |\n",
    "| --------------------|--------|-----|--------------|\n",
    "| Logistic Regression |\t0.60   | 0.64|\t0.67        |\n",
    "| GridSearch + LR\t  | 0.65   | 0.64|\t0.63        |"
   ]
  },
  {
   "cell_type": "markdown",
   "metadata": {},
   "source": [
    "### Building the Model for the Whole Dataset "
   ]
  },
  {
   "cell_type": "code",
   "execution_count": 681,
   "metadata": {},
   "outputs": [],
   "source": [
    "X = df.iloc[:, df.columns != 'Attrition']\n",
    "y = df.iloc[:, df.columns == 'Attrition']"
   ]
  },
  {
   "cell_type": "markdown",
   "metadata": {},
   "source": [
    "#### Resampling the entire set  "
   ]
  },
  {
   "cell_type": "code",
   "execution_count": 682,
   "metadata": {},
   "outputs": [
    {
     "name": "stdout",
     "output_type": "stream",
     "text": [
      "1233\n",
      "1233\n"
     ]
    },
    {
     "name": "stderr",
     "output_type": "stream",
     "text": [
      "/Users/arvindramkumar/anaconda3/lib/python3.6/site-packages/sklearn/utils/validation.py:761: DataConversionWarning: A column-vector y was passed when a 1d array was expected. Please change the shape of y to (n_samples, ), for example using ravel().\n",
      "  y = column_or_1d(y, warn=True)\n"
     ]
    }
   ],
   "source": [
    "from imblearn.over_sampling import SMOTE\n",
    "\n",
    "sm = SMOTE(random_state=12, ratio = 1.0)\n",
    "x_res, y_res = sm.fit_sample(X, y)\n",
    "\n",
    "print(len(y_res[y_res==0]))\n",
    "print(len(y_res[y_res==1]))\n",
    "\n",
    "X = x_res\n",
    "y = y_res"
   ]
  },
  {
   "cell_type": "markdown",
   "metadata": {},
   "source": [
    "### Logistic Regression for Entire Model "
   ]
  },
  {
   "cell_type": "code",
   "execution_count": 683,
   "metadata": {},
   "outputs": [],
   "source": [
    "from sklearn.linear_model import LogisticRegression\n",
    "\n",
    "model=LogisticRegression(random_state=123, C = 0.001)\n",
    "model_fit=model.fit(X, y)\n",
    "y_pred=model.predict(X)"
   ]
  },
  {
   "cell_type": "code",
   "execution_count": 684,
   "metadata": {},
   "outputs": [
    {
     "name": "stdout",
     "output_type": "stream",
     "text": [
      "accuracy 0.6711273317112734\n",
      "\n",
      " classification report\n",
      "              precision    recall  f1-score   support\n",
      "\n",
      "           0       0.68      0.66      0.67      1233\n",
      "           1       0.67      0.69      0.68      1233\n",
      "\n",
      "   micro avg       0.67      0.67      0.67      2466\n",
      "   macro avg       0.67      0.67      0.67      2466\n",
      "weighted avg       0.67      0.67      0.67      2466\n",
      "\n",
      "\n",
      " confusion matrix\n",
      "[[809 424]\n",
      " [387 846]]\n"
     ]
    },
    {
     "data": {
      "image/png": "[encoded data removed]",
      "text/plain": [
       "<Figure size 432x288 with 2 Axes>"
      ]
     },
     "metadata": {},
     "output_type": "display_data"
    },
    {
     "name": "stdout",
     "output_type": "stream",
     "text": [
      "\n",
      " Recall Metric in the testing dataset\n",
      "0.6861313868613139\n",
      "\n",
      " score_auc\n",
      "0.6711273317112734\n"
     ]
    },
    {
     "data": {
      "image/png": "[encoded data removed]",
      "text/plain": [
       "<Figure size 432x288 with 1 Axes>"
      ]
     },
     "metadata": {},
     "output_type": "display_data"
    }
   ],
   "source": [
    "from sklearn.metrics import classification_report,confusion_matrix,accuracy_score\n",
    "from sklearn.metrics import confusion_matrix,precision_recall_curve,auc,roc_auc_score,roc_curve,recall_score,classification_report \n",
    "\n",
    "print('accuracy',accuracy_score(y,y_pred))\n",
    "print('\\n classification report')\n",
    "print(classification_report(y,y_pred))\n",
    "print('\\n confusion matrix')\n",
    "print(confusion_matrix(y,y_pred))\n",
    "\n",
    "cnf_matrix = confusion_matrix(y,y_pred)\n",
    "\n",
    "class_names = [0,1]\n",
    "plt.figure()\n",
    "plot_confusion_matrix(cnf_matrix, classes=class_names, title='Confusion matrix')\n",
    "plt.show()\n",
    "\n",
    "print('\\n Recall Metric in the testing dataset')\n",
    "print(cnf_matrix[1,1]/(cnf_matrix[1,0]+cnf_matrix[1,1]))\n",
    "\n",
    "fpr,tpr,thresholds=roc_curve(y,y_pred)\n",
    "score_auc=roc_auc_score(y,y_pred)\n",
    "print('\\n score_auc')\n",
    "print(score_auc)\n",
    "\n",
    "# Plot ROC\n",
    "\n",
    "roc_auc = auc(fpr, tpr)\n",
    "plt.title('Receiver Operating Characteristic')\n",
    "plt.plot(fpr, tpr, 'b',label='AUC = %0.2f'% roc_auc)\n",
    "plt.legend(loc='lower right')\n",
    "plt.plot([0,1],[0,1],'r--')\n",
    "plt.xlim([-0.1,1.0])\n",
    "plt.ylim([-0.1,1.01])\n",
    "plt.ylabel('True Positive Rate')\n",
    "plt.xlabel('False Positive Rate')\n",
    "plt.show()"
   ]
  },
  {
   "cell_type": "markdown",
   "metadata": {},
   "source": [
    "### Contribution of Factors to the Attrition"
   ]
  },
  {
   "cell_type": "code",
   "execution_count": 685,
   "metadata": {},
   "outputs": [
    {
     "name": "stdout",
     "output_type": "stream",
     "text": [
      "[9.01025581e-01 9.41255353e-01 6.37385764e-01 8.71289128e-01\n",
      " 3.63387098e-11 1.14136108e-02 7.97186513e-01 3.71683185e-03\n",
      " 1.02468050e-04 1.63031149e-02 4.76086221e-02 1.98923518e-02]\n",
      "[3.59687841e-36 2.06467083e-06 1.34200195e-09 1.04839085e-03\n",
      " 1.87505515e-07 4.10616763e-01 5.29520108e-09 1.49542912e-04\n",
      " 4.23314699e-35 9.01470570e-04 2.90710817e-03 4.76629247e-01]\n"
     ]
    },
    {
     "data": {
      "text/html": [
       "<table class=\"simpletable\">\n",
       "<caption>Logit Regression Results</caption>\n",
       "<tr>\n",
       "  <th>Dep. Variable:</th>         <td>y</td>        <th>  No. Observations:  </th>   <td>  2466</td>  \n",
       "</tr>\n",
       "<tr>\n",
       "  <th>Model:</th>               <td>Logit</td>      <th>  Df Residuals:      </th>   <td>  2454</td>  \n",
       "</tr>\n",
       "<tr>\n",
       "  <th>Method:</th>               <td>MLE</td>       <th>  Df Model:          </th>   <td>    11</td>  \n",
       "</tr>\n",
       "<tr>\n",
       "  <th>Date:</th>          <td>Sat, 31 Aug 2019</td> <th>  Pseudo R-squ.:     </th>   <td>0.1467</td>  \n",
       "</tr>\n",
       "<tr>\n",
       "  <th>Time:</th>              <td>16:11:52</td>     <th>  Log-Likelihood:    </th>  <td> -1458.5</td> \n",
       "</tr>\n",
       "<tr>\n",
       "  <th>converged:</th>           <td>True</td>       <th>  LL-Null:           </th>  <td> -1709.3</td> \n",
       "</tr>\n",
       "<tr>\n",
       "  <th> </th>                      <td> </td>        <th>  LLR p-value:       </th> <td>1.520e-100</td>\n",
       "</tr>\n",
       "</table>\n",
       "<table class=\"simpletable\">\n",
       "<tr>\n",
       "    <td></td>       <th>coef</th>     <th>std err</th>      <th>z</th>      <th>P>|z|</th>  <th>[0.025</th>    <th>0.975]</th>  \n",
       "</tr>\n",
       "<tr>\n",
       "  <th>const</th> <td>    3.5793</td> <td>    0.285</td> <td>   12.558</td> <td> 0.000</td> <td>    3.021</td> <td>    4.138</td>\n",
       "</tr>\n",
       "<tr>\n",
       "  <th>x1</th>    <td>   -0.0300</td> <td>    0.006</td> <td>   -4.747</td> <td> 0.000</td> <td>   -0.042</td> <td>   -0.018</td>\n",
       "</tr>\n",
       "<tr>\n",
       "  <th>x2</th>    <td>   -0.4261</td> <td>    0.070</td> <td>   -6.062</td> <td> 0.000</td> <td>   -0.564</td> <td>   -0.288</td>\n",
       "</tr>\n",
       "<tr>\n",
       "  <th>x3</th>    <td>   -0.3906</td> <td>    0.119</td> <td>   -3.277</td> <td> 0.001</td> <td>   -0.624</td> <td>   -0.157</td>\n",
       "</tr>\n",
       "<tr>\n",
       "  <th>x4</th>    <td>    0.0309</td> <td>    0.006</td> <td>    5.211</td> <td> 0.000</td> <td>    0.019</td> <td>    0.042</td>\n",
       "</tr>\n",
       "<tr>\n",
       "  <th>x5</th>    <td>-6.256e-05</td> <td>  7.6e-05</td> <td>   -0.823</td> <td> 0.411</td> <td>   -0.000</td> <td> 8.65e-05</td>\n",
       "</tr>\n",
       "<tr>\n",
       "  <th>x6</th>    <td>   -0.8275</td> <td>    0.142</td> <td>   -5.838</td> <td> 0.000</td> <td>   -1.105</td> <td>   -0.550</td>\n",
       "</tr>\n",
       "<tr>\n",
       "  <th>x7</th>    <td>    0.0995</td> <td>    0.026</td> <td>    3.792</td> <td> 0.000</td> <td>    0.048</td> <td>    0.151</td>\n",
       "</tr>\n",
       "<tr>\n",
       "  <th>x8</th>    <td>   -0.5353</td> <td>    0.043</td> <td>  -12.361</td> <td> 0.000</td> <td>   -0.620</td> <td>   -0.450</td>\n",
       "</tr>\n",
       "<tr>\n",
       "  <th>x9</th>    <td>    0.0001</td> <td> 3.33e-05</td> <td>    3.320</td> <td> 0.001</td> <td> 4.52e-05</td> <td>    0.000</td>\n",
       "</tr>\n",
       "<tr>\n",
       "  <th>x10</th>   <td>    0.0620</td> <td>    0.021</td> <td>    2.977</td> <td> 0.003</td> <td>    0.021</td> <td>    0.103</td>\n",
       "</tr>\n",
       "<tr>\n",
       "  <th>x11</th>   <td>   -0.0076</td> <td>    0.011</td> <td>   -0.712</td> <td> 0.477</td> <td>   -0.028</td> <td>    0.013</td>\n",
       "</tr>\n",
       "</table>"
      ],
      "text/plain": [
       "<class 'statsmodels.iolib.summary.Summary'>\n",
       "\"\"\"\n",
       "                           Logit Regression Results                           \n",
       "==============================================================================\n",
       "Dep. Variable:                      y   No. Observations:                 2466\n",
       "Model:                          Logit   Df Residuals:                     2454\n",
       "Method:                           MLE   Df Model:                           11\n",
       "Date:                Sat, 31 Aug 2019   Pseudo R-squ.:                  0.1467\n",
       "Time:                        16:11:52   Log-Likelihood:                -1458.5\n",
       "converged:                       True   LL-Null:                       -1709.3\n",
       "                                        LLR p-value:                1.520e-100\n",
       "==============================================================================\n",
       "                 coef    std err          z      P>|z|      [0.025      0.975]\n",
       "------------------------------------------------------------------------------\n",
       "const          3.5793      0.285     12.558      0.000       3.021       4.138\n",
       "x1            -0.0300      0.006     -4.747      0.000      -0.042      -0.018\n",
       "x2            -0.4261      0.070     -6.062      0.000      -0.564      -0.288\n",
       "x3            -0.3906      0.119     -3.277      0.001      -0.624      -0.157\n",
       "x4             0.0309      0.006      5.211      0.000       0.019       0.042\n",
       "x5         -6.256e-05    7.6e-05     -0.823      0.411      -0.000    8.65e-05\n",
       "x6            -0.8275      0.142     -5.838      0.000      -1.105      -0.550\n",
       "x7             0.0995      0.026      3.792      0.000       0.048       0.151\n",
       "x8            -0.5353      0.043    -12.361      0.000      -0.620      -0.450\n",
       "x9             0.0001   3.33e-05      3.320      0.001    4.52e-05       0.000\n",
       "x10            0.0620      0.021      2.977      0.003       0.021       0.103\n",
       "x11           -0.0076      0.011     -0.712      0.477      -0.028       0.013\n",
       "==============================================================================\n",
       "\"\"\""
      ]
     },
     "execution_count": 685,
     "metadata": {},
     "output_type": "execute_result"
    }
   ],
   "source": [
    "import numpy as np\n",
    "from scipy.stats import norm\n",
    "from sklearn.linear_model import LogisticRegression\n",
    "\n",
    "def logit_pvalue(model, x):\n",
    "    \"\"\" Calculate z-scores for scikit-learn LogisticRegression.\n",
    "    parameters:\n",
    "        model: fitted sklearn.linear_model.LogisticRegression with intercept and large C\n",
    "        x:     matrix on which the model was fit\n",
    "    This function uses asymtptics for maximum likelihood estimates.\n",
    "    \"\"\"\n",
    "    p = model.predict_proba(x)\n",
    "    n = len(p)\n",
    "    m = len(model.coef_[0]) + 1\n",
    "    coefs = np.concatenate([model.intercept_, model.coef_[0]])\n",
    "    x_full = np.matrix(np.insert(np.array(x), 0, 1, axis = 1))\n",
    "    ans = np.zeros((m, m))\n",
    "    for i in range(n):\n",
    "        ans = ans + np.dot(np.transpose(x_full[i, :]), x_full[i, :]) * p[i,1] * p[i, 0]\n",
    "    vcov = np.linalg.inv(np.matrix(ans))\n",
    "    se = np.sqrt(np.diag(vcov))\n",
    "    t =  coefs/se  \n",
    "    p = (1 - norm.cdf(abs(t))) * 2\n",
    "    return p\n",
    "\n",
    "# test p-values\n",
    "x = X\n",
    "y = y\n",
    "model = LogisticRegression(C = 0.001).fit(x, y)\n",
    "print(logit_pvalue(model, x))\n",
    "\n",
    "# compare with statsmodels\n",
    "import statsmodels.api as sm\n",
    "sm_model = sm.Logit(y, sm.add_constant(x)).fit(disp=0)\n",
    "print(sm_model.pvalues)\n",
    "sm_model.summary()"
   ]
  },
  {
   "cell_type": "markdown",
   "metadata": {},
   "source": [
    "|     | Name of the Variable | \n",
    "| ----|----------------------|\n",
    "| x1  |\t Age                 |\n",
    "| x2  |  BusinessTravel      |\n",
    "| x3  |  Department      |\n",
    "| x4  |  DistanceFromHome      |\n",
    "| x5  |  EmployeeNumber      |\n",
    "| x6  |  JobLevel      |\n",
    "| x7  |  JobRole      |\n",
    "| x8  |  JobSatisfaction      |\n",
    "| x9  |  MonthlyIncome      |\n",
    "| x10 |  NumCompaniesWorked      |\n",
    "| x11 |  YearsAtCompany      |"
   ]
  },
  {
   "cell_type": "markdown",
   "metadata": {},
   "source": [
    "Now, we can see that, based on the p-value (p-value > Alpha (0.05)) will indicate that the parameter is not significant). \n",
    "\n",
    "Accordingly, YearsAtCompany and Employee Number has the least contribution (Insignificant) to the Attrition"
   ]
  },
  {
   "cell_type": "markdown",
   "metadata": {},
   "source": [
    "### Next Process "
   ]
  },
  {
   "cell_type": "markdown",
   "metadata": {},
   "source": [
    "Now, we need to analyze how does these factors affect the Attrition. For that, we convert all the continuous variables into categorical, and we study, how these categories affect the attrition. \n",
    "\n",
    "Based on that we might be able to understand how each factor and their range will affect the model"
   ]
  },
  {
   "cell_type": "markdown",
   "metadata": {},
   "source": [
    "#### Other Notable Findings  "
   ]
  },
  {
   "cell_type": "markdown",
   "metadata": {},
   "source": [
    "The impact of the monthly income seems to be  slightly insignificant. This is because of the very low coeffecient. So, we perform a t-test to determine whether there is a significant difference between Average Monthly salary for employees who leave and who do not "
   ]
  },
  {
   "cell_type": "markdown",
   "metadata": {},
   "source": [
    "### T- test to determine whether the monthly salary affects the person leaving or not "
   ]
  },
  {
   "cell_type": "code",
   "execution_count": 686,
   "metadata": {},
   "outputs": [],
   "source": [
    "df1 = df.copy()"
   ]
  },
  {
   "cell_type": "markdown",
   "metadata": {},
   "source": [
    "The very basic assumption for a t-test is Normality. So, we check for the distibution. If it is not normally distributed, we use the Log transformation"
   ]
  },
  {
   "cell_type": "code",
   "execution_count": 687,
   "metadata": {},
   "outputs": [
    {
     "name": "stderr",
     "output_type": "stream",
     "text": [
      "/Users/arvindramkumar/anaconda3/lib/python3.6/site-packages/matplotlib/axes/_axes.py:6462: UserWarning: The 'normed' kwarg is deprecated, and has been replaced by the 'density' kwarg.\n",
      "  warnings.warn(\"The 'normed' kwarg is deprecated, and has been \"\n",
      "/Users/arvindramkumar/anaconda3/lib/python3.6/site-packages/ipykernel_launcher.py:7: MatplotlibDeprecationWarning: scipy.stats.norm.pdf\n",
      "  import sys\n"
     ]
    },
    {
     "data": {
      "image/png": "[encoded data removed]",
      "text/plain": [
       "<Figure size 432x288 with 1 Axes>"
      ]
     },
     "metadata": {},
     "output_type": "display_data"
    }
   ],
   "source": [
    "from matplotlib import pyplot as plt\n",
    "import matplotlib.mlab as mlab\n",
    "\n",
    "n, bins, patches = plt.hist(df1.MonthlyIncome, 50, normed=1)\n",
    "mu = np.mean(df1.MonthlyIncome)\n",
    "sigma = np.std(df1.MonthlyIncome)\n",
    "plt.plot(bins, mlab.normpdf(bins, mu, sigma))\n",
    "plt.title('Distribution of Monthly Income')\n",
    "plt.show()"
   ]
  },
  {
   "cell_type": "markdown",
   "metadata": {},
   "source": [
    "Since the distribution is skewed, we use log transformation. "
   ]
  },
  {
   "cell_type": "code",
   "execution_count": 688,
   "metadata": {},
   "outputs": [],
   "source": [
    "from scipy.stats import boxcox\n",
    "\n",
    "# Transformation \n",
    "df1['MonthlyIncome'] = boxcox(df1['MonthlyIncome'], 0)"
   ]
  },
  {
   "cell_type": "code",
   "execution_count": 689,
   "metadata": {},
   "outputs": [
    {
     "name": "stderr",
     "output_type": "stream",
     "text": [
      "/Users/arvindramkumar/anaconda3/lib/python3.6/site-packages/matplotlib/axes/_axes.py:6462: UserWarning: The 'normed' kwarg is deprecated, and has been replaced by the 'density' kwarg.\n",
      "  warnings.warn(\"The 'normed' kwarg is deprecated, and has been \"\n",
      "/Users/arvindramkumar/anaconda3/lib/python3.6/site-packages/ipykernel_launcher.py:7: MatplotlibDeprecationWarning: scipy.stats.norm.pdf\n",
      "  import sys\n"
     ]
    },
    {
     "data": {
      "image/png": "[encoded data removed]",
      "text/plain": [
       "<Figure size 432x288 with 1 Axes>"
      ]
     },
     "metadata": {},
     "output_type": "display_data"
    }
   ],
   "source": [
    "from matplotlib import pyplot as plt\n",
    "import matplotlib.mlab as mlab\n",
    "\n",
    "n, bins, patches = plt.hist(df1.MonthlyIncome, 50, normed=1)\n",
    "mu = np.mean(df1.MonthlyIncome)\n",
    "sigma = np.std(df1.MonthlyIncome)\n",
    "plt.plot(bins, mlab.normpdf(bins, mu, sigma))\n",
    "plt.title('Distribution of Monthly Income After Transformation')\n",
    "plt.show()"
   ]
  },
  {
   "cell_type": "markdown",
   "metadata": {},
   "source": [
    "1. This is close we could get to the normality. The distirbution is so skewed that, a perfect normal distribution isn't possible. So, we continue with our T-test using this transformed values\n",
    "\n",
    "2. We achieve near normality and proceed with this"
   ]
  },
  {
   "cell_type": "markdown",
   "metadata": {},
   "source": [
    "#### T - test "
   ]
  },
  {
   "cell_type": "markdown",
   "metadata": {},
   "source": [
    "1. Since, the data is normally distributed (After the transformation) and Independent, we can perform t- test to compare the means of these two.\n",
    "\n",
    "2. Average Monthly Income of Employees who do not leave – µ_1 | Average Monthly Income of Employees who leave – µ_2\n",
    "\n",
    "    1. Null Hypothesis – H0 : µ_1= µ_2\n",
    "    2. Alternate Hypothesis – H1 : µ_1 > µ_2\n",
    "\n",
    "3. Here, as far as this problem is concerned, it is preferable to do Welch’s T test, because there is high possibility that the Variance of these samples might not be equal.\n",
    "\n",
    "4. So, for the Rejection Criteria for the Null Hypothesis, the test statistic < -t (α,V). Since the Degree of Freedom is Really high, we choose the comparing statistic to be 1.96 (From t table).\n",
    "\n",
    "5. Also, If p-value is less than 0.5, it also rejects the null hypothesis."
   ]
  },
  {
   "cell_type": "code",
   "execution_count": 690,
   "metadata": {},
   "outputs": [
    {
     "name": "stdout",
     "output_type": "stream",
     "text": [
      "Reject Null Hypothesis, Average Monthly Income of Employee who do not leave is greater Average Monthly Income of Employee who will leave\n"
     ]
    }
   ],
   "source": [
    "from scipy.stats import ttest_ind\n",
    "\n",
    "yes = df1[(df1['Attrition'] == 1)]\n",
    "no = df1[(df1['Attrition'] == 0)]\n",
    "\n",
    "# t test\n",
    "\n",
    "results = ttest_ind(yes.MonthlyIncome, no.MonthlyIncome, equal_var=False)\n",
    "\n",
    "alpha = 0.05\n",
    "if ((results[0] < 0) & (results[1]/2 < alpha)):\n",
    "    print (\"Reject Null Hypothesis, Average Monthly Income of Employee who {} is greater Average Monthly Income of Employee who {}\".format('do not leave','will leave'))\n",
    "else:\n",
    "    print (\"Accept Null Hypothesis\")"
   ]
  },
  {
   "cell_type": "markdown",
   "metadata": {},
   "source": [
    "#### Visualize the average Monthly Income of people who leave and who do not "
   ]
  },
  {
   "cell_type": "code",
   "execution_count": 691,
   "metadata": {},
   "outputs": [
    {
     "data": {
      "image/png": "[encoded data removed]",
      "text/plain": [
       "<Figure size 432x288 with 1 Axes>"
      ]
     },
     "metadata": {},
     "output_type": "display_data"
    }
   ],
   "source": [
    "AVG4 = df.groupby('Attrition')['MonthlyIncome'].mean()\n",
    "\n",
    "fig, ax = plt.subplots()\n",
    "AVG4.plot.bar(ax = ax)\n",
    "plt.title('Average Monthly Income of People who leave and who do not ')\n",
    "plt.xlabel('Attrition')\n",
    "plt.ylabel('Avg Monthly Income ')\n",
    "ax.grid()\n",
    "plt.show()"
   ]
  },
  {
   "cell_type": "markdown",
   "metadata": {},
   "source": [
    "### Converting Continuous into Categorical "
   ]
  },
  {
   "cell_type": "code",
   "execution_count": 692,
   "metadata": {},
   "outputs": [],
   "source": [
    "df2 = pd.read_csv('data.csv')"
   ]
  },
  {
   "cell_type": "code",
   "execution_count": 693,
   "metadata": {},
   "outputs": [
    {
     "data": {
      "text/html": [
       "<div>\n",
       "<style scoped>\n",
       "    .dataframe tbody tr th:only-of-type {\n",
       "        vertical-align: middle;\n",
       "    }\n",
       "\n",
       "    .dataframe tbody tr th {\n",
       "        vertical-align: top;\n",
       "    }\n",
       "\n",
       "    .dataframe thead th {\n",
       "        text-align: right;\n",
       "    }\n",
       "</style>\n",
       "<table border=\"1\" class=\"dataframe\">\n",
       "  <thead>\n",
       "    <tr style=\"text-align: right;\">\n",
       "      <th></th>\n",
       "      <th>Age</th>\n",
       "      <th>DistanceFromHome</th>\n",
       "      <th>EmployeeNumber</th>\n",
       "      <th>JobLevel</th>\n",
       "      <th>JobSatisfaction</th>\n",
       "      <th>MonthlyIncome</th>\n",
       "      <th>NumCompaniesWorked</th>\n",
       "      <th>YearsAtCompany</th>\n",
       "    </tr>\n",
       "  </thead>\n",
       "  <tbody>\n",
       "    <tr>\n",
       "      <th>count</th>\n",
       "      <td>1470.000000</td>\n",
       "      <td>1470.000000</td>\n",
       "      <td>1470.000000</td>\n",
       "      <td>1470.000000</td>\n",
       "      <td>1470.000000</td>\n",
       "      <td>1470.000000</td>\n",
       "      <td>1470.000000</td>\n",
       "      <td>1470.000000</td>\n",
       "    </tr>\n",
       "    <tr>\n",
       "      <th>mean</th>\n",
       "      <td>36.923810</td>\n",
       "      <td>9.192517</td>\n",
       "      <td>1024.865306</td>\n",
       "      <td>2.063946</td>\n",
       "      <td>2.728571</td>\n",
       "      <td>6502.931293</td>\n",
       "      <td>2.693197</td>\n",
       "      <td>7.008163</td>\n",
       "    </tr>\n",
       "    <tr>\n",
       "      <th>std</th>\n",
       "      <td>9.135373</td>\n",
       "      <td>8.106864</td>\n",
       "      <td>602.024335</td>\n",
       "      <td>1.106940</td>\n",
       "      <td>1.102846</td>\n",
       "      <td>4707.956783</td>\n",
       "      <td>2.498009</td>\n",
       "      <td>6.126525</td>\n",
       "    </tr>\n",
       "    <tr>\n",
       "      <th>min</th>\n",
       "      <td>18.000000</td>\n",
       "      <td>1.000000</td>\n",
       "      <td>1.000000</td>\n",
       "      <td>1.000000</td>\n",
       "      <td>1.000000</td>\n",
       "      <td>1009.000000</td>\n",
       "      <td>0.000000</td>\n",
       "      <td>0.000000</td>\n",
       "    </tr>\n",
       "    <tr>\n",
       "      <th>25%</th>\n",
       "      <td>30.000000</td>\n",
       "      <td>2.000000</td>\n",
       "      <td>491.250000</td>\n",
       "      <td>1.000000</td>\n",
       "      <td>2.000000</td>\n",
       "      <td>2911.000000</td>\n",
       "      <td>1.000000</td>\n",
       "      <td>3.000000</td>\n",
       "    </tr>\n",
       "    <tr>\n",
       "      <th>50%</th>\n",
       "      <td>36.000000</td>\n",
       "      <td>7.000000</td>\n",
       "      <td>1020.500000</td>\n",
       "      <td>2.000000</td>\n",
       "      <td>3.000000</td>\n",
       "      <td>4919.000000</td>\n",
       "      <td>2.000000</td>\n",
       "      <td>5.000000</td>\n",
       "    </tr>\n",
       "    <tr>\n",
       "      <th>75%</th>\n",
       "      <td>43.000000</td>\n",
       "      <td>14.000000</td>\n",
       "      <td>1555.750000</td>\n",
       "      <td>3.000000</td>\n",
       "      <td>4.000000</td>\n",
       "      <td>8379.000000</td>\n",
       "      <td>4.000000</td>\n",
       "      <td>9.000000</td>\n",
       "    </tr>\n",
       "    <tr>\n",
       "      <th>max</th>\n",
       "      <td>60.000000</td>\n",
       "      <td>29.000000</td>\n",
       "      <td>2068.000000</td>\n",
       "      <td>5.000000</td>\n",
       "      <td>4.000000</td>\n",
       "      <td>19999.000000</td>\n",
       "      <td>9.000000</td>\n",
       "      <td>40.000000</td>\n",
       "    </tr>\n",
       "  </tbody>\n",
       "</table>\n",
       "</div>"
      ],
      "text/plain": [
       "               Age  DistanceFromHome  EmployeeNumber     JobLevel  \\\n",
       "count  1470.000000       1470.000000     1470.000000  1470.000000   \n",
       "mean     36.923810          9.192517     1024.865306     2.063946   \n",
       "std       9.135373          8.106864      602.024335     1.106940   \n",
       "min      18.000000          1.000000        1.000000     1.000000   \n",
       "25%      30.000000          2.000000      491.250000     1.000000   \n",
       "50%      36.000000          7.000000     1020.500000     2.000000   \n",
       "75%      43.000000         14.000000     1555.750000     3.000000   \n",
       "max      60.000000         29.000000     2068.000000     5.000000   \n",
       "\n",
       "       JobSatisfaction  MonthlyIncome  NumCompaniesWorked  YearsAtCompany  \n",
       "count      1470.000000    1470.000000         1470.000000     1470.000000  \n",
       "mean          2.728571    6502.931293            2.693197        7.008163  \n",
       "std           1.102846    4707.956783            2.498009        6.126525  \n",
       "min           1.000000    1009.000000            0.000000        0.000000  \n",
       "25%           2.000000    2911.000000            1.000000        3.000000  \n",
       "50%           3.000000    4919.000000            2.000000        5.000000  \n",
       "75%           4.000000    8379.000000            4.000000        9.000000  \n",
       "max           4.000000   19999.000000            9.000000       40.000000  "
      ]
     },
     "execution_count": 693,
     "metadata": {},
     "output_type": "execute_result"
    }
   ],
   "source": [
    "df2.describe()"
   ]
  },
  {
   "cell_type": "markdown",
   "metadata": {},
   "source": [
    "The Employee Number is not required for analysis part. The Job Level, Job Satisfaction and Number of Companies worked are at given quantity, So, its not necessary for us to convert them. \n",
    "\n",
    "We Convert Age, Distance from home, Monthly Income and Years at Company to categorical. "
   ]
  },
  {
   "cell_type": "code",
   "execution_count": 694,
   "metadata": {},
   "outputs": [],
   "source": [
    "df2['Age'] = pd.cut(df2.Age,\n",
    "                     bins=[17,20,25,30,35,40,45,50,55,60], \n",
    "                     labels=[\"15 - 20\", \"21 - 25\", \"26 - 30\", \"31 - 35\", \"36 - 40\", \"41 - 45\", \"46 - 50\", \"51 - 55\", \"Greater than 55\"])\n",
    "\n",
    "df2['DistanceFromHome'] = pd.cut(df2.DistanceFromHome,\n",
    "                     bins=[0,5,10,15,20,25,30], \n",
    "                     labels=[\"0 - 5\", \"6 - 10\", \"11 - 15\", \"16 - 20\", \"21 - 25\", \"Greater than 25\"])\n",
    "\n",
    "df2['MonthlyIncome'] = pd.cut(df2.MonthlyIncome,\n",
    "                     bins=[0, 2500, 5000, 7500, 10000, 12500, 15000, 17500, 20000], \n",
    "                     labels=[\"1 - 2500\", \"2501 - 5000\", \"5001 - 7500\", \"7501 - 10000\", \"10001 - 12500\", \"12501 - 15000\", \"15001 - 17500\", \"Greather than 17501\"])\n",
    "\n",
    "df2['YearsAtCompany'] = pd.cut(df2.YearsAtCompany,\n",
    "                    bins=[-1,5,10,15,20,25,30, 35, 40], \n",
    "                     labels=[\"0 - 5\", \"6 - 10\", \"11 - 15\", \"16 - 20\", \"21 - 25\", \"26 - 30\", \"31 - 35\", \"Greater than 36\"])\n"
   ]
  },
  {
   "cell_type": "code",
   "execution_count": 695,
   "metadata": {},
   "outputs": [
    {
     "data": {
      "text/html": [
       "<div>\n",
       "<style scoped>\n",
       "    .dataframe tbody tr th:only-of-type {\n",
       "        vertical-align: middle;\n",
       "    }\n",
       "\n",
       "    .dataframe tbody tr th {\n",
       "        vertical-align: top;\n",
       "    }\n",
       "\n",
       "    .dataframe thead th {\n",
       "        text-align: right;\n",
       "    }\n",
       "</style>\n",
       "<table border=\"1\" class=\"dataframe\">\n",
       "  <thead>\n",
       "    <tr style=\"text-align: right;\">\n",
       "      <th></th>\n",
       "      <th>Age</th>\n",
       "      <th>Attrition</th>\n",
       "      <th>BusinessTravel</th>\n",
       "      <th>Department</th>\n",
       "      <th>DistanceFromHome</th>\n",
       "      <th>EmployeeNumber</th>\n",
       "      <th>JobLevel</th>\n",
       "      <th>JobRole</th>\n",
       "      <th>JobSatisfaction</th>\n",
       "      <th>MonthlyIncome</th>\n",
       "      <th>NumCompaniesWorked</th>\n",
       "      <th>YearsAtCompany</th>\n",
       "    </tr>\n",
       "  </thead>\n",
       "  <tbody>\n",
       "    <tr>\n",
       "      <th>0</th>\n",
       "      <td>41 - 45</td>\n",
       "      <td>Yes</td>\n",
       "      <td>Travel_Rarely</td>\n",
       "      <td>Sales</td>\n",
       "      <td>0 - 5</td>\n",
       "      <td>1</td>\n",
       "      <td>2</td>\n",
       "      <td>Sales Executive</td>\n",
       "      <td>4</td>\n",
       "      <td>5001 - 7500</td>\n",
       "      <td>8</td>\n",
       "      <td>6 - 10</td>\n",
       "    </tr>\n",
       "    <tr>\n",
       "      <th>1</th>\n",
       "      <td>46 - 50</td>\n",
       "      <td>No</td>\n",
       "      <td>Travel_Frequently</td>\n",
       "      <td>Research &amp; Development</td>\n",
       "      <td>6 - 10</td>\n",
       "      <td>2</td>\n",
       "      <td>2</td>\n",
       "      <td>Research Scientist</td>\n",
       "      <td>2</td>\n",
       "      <td>5001 - 7500</td>\n",
       "      <td>1</td>\n",
       "      <td>6 - 10</td>\n",
       "    </tr>\n",
       "    <tr>\n",
       "      <th>2</th>\n",
       "      <td>36 - 40</td>\n",
       "      <td>Yes</td>\n",
       "      <td>Travel_Rarely</td>\n",
       "      <td>Research &amp; Development</td>\n",
       "      <td>0 - 5</td>\n",
       "      <td>4</td>\n",
       "      <td>1</td>\n",
       "      <td>Laboratory Technician</td>\n",
       "      <td>3</td>\n",
       "      <td>1 - 2500</td>\n",
       "      <td>6</td>\n",
       "      <td>0 - 5</td>\n",
       "    </tr>\n",
       "    <tr>\n",
       "      <th>3</th>\n",
       "      <td>31 - 35</td>\n",
       "      <td>No</td>\n",
       "      <td>Travel_Frequently</td>\n",
       "      <td>Research &amp; Development</td>\n",
       "      <td>0 - 5</td>\n",
       "      <td>5</td>\n",
       "      <td>1</td>\n",
       "      <td>Research Scientist</td>\n",
       "      <td>3</td>\n",
       "      <td>2501 - 5000</td>\n",
       "      <td>1</td>\n",
       "      <td>6 - 10</td>\n",
       "    </tr>\n",
       "    <tr>\n",
       "      <th>4</th>\n",
       "      <td>26 - 30</td>\n",
       "      <td>No</td>\n",
       "      <td>Travel_Rarely</td>\n",
       "      <td>Research &amp; Development</td>\n",
       "      <td>0 - 5</td>\n",
       "      <td>7</td>\n",
       "      <td>1</td>\n",
       "      <td>Laboratory Technician</td>\n",
       "      <td>2</td>\n",
       "      <td>2501 - 5000</td>\n",
       "      <td>9</td>\n",
       "      <td>0 - 5</td>\n",
       "    </tr>\n",
       "    <tr>\n",
       "      <th>5</th>\n",
       "      <td>31 - 35</td>\n",
       "      <td>No</td>\n",
       "      <td>Travel_Frequently</td>\n",
       "      <td>Research &amp; Development</td>\n",
       "      <td>0 - 5</td>\n",
       "      <td>8</td>\n",
       "      <td>1</td>\n",
       "      <td>Laboratory Technician</td>\n",
       "      <td>4</td>\n",
       "      <td>2501 - 5000</td>\n",
       "      <td>0</td>\n",
       "      <td>6 - 10</td>\n",
       "    </tr>\n",
       "    <tr>\n",
       "      <th>6</th>\n",
       "      <td>Greater than 55</td>\n",
       "      <td>No</td>\n",
       "      <td>Travel_Rarely</td>\n",
       "      <td>Research &amp; Development</td>\n",
       "      <td>0 - 5</td>\n",
       "      <td>10</td>\n",
       "      <td>1</td>\n",
       "      <td>Laboratory Technician</td>\n",
       "      <td>1</td>\n",
       "      <td>2501 - 5000</td>\n",
       "      <td>4</td>\n",
       "      <td>0 - 5</td>\n",
       "    </tr>\n",
       "    <tr>\n",
       "      <th>7</th>\n",
       "      <td>26 - 30</td>\n",
       "      <td>No</td>\n",
       "      <td>Travel_Rarely</td>\n",
       "      <td>Research &amp; Development</td>\n",
       "      <td>21 - 25</td>\n",
       "      <td>11</td>\n",
       "      <td>1</td>\n",
       "      <td>Laboratory Technician</td>\n",
       "      <td>3</td>\n",
       "      <td>2501 - 5000</td>\n",
       "      <td>1</td>\n",
       "      <td>0 - 5</td>\n",
       "    </tr>\n",
       "    <tr>\n",
       "      <th>8</th>\n",
       "      <td>36 - 40</td>\n",
       "      <td>No</td>\n",
       "      <td>Travel_Frequently</td>\n",
       "      <td>Research &amp; Development</td>\n",
       "      <td>21 - 25</td>\n",
       "      <td>12</td>\n",
       "      <td>3</td>\n",
       "      <td>Manufacturing Director</td>\n",
       "      <td>3</td>\n",
       "      <td>7501 - 10000</td>\n",
       "      <td>0</td>\n",
       "      <td>6 - 10</td>\n",
       "    </tr>\n",
       "    <tr>\n",
       "      <th>9</th>\n",
       "      <td>36 - 40</td>\n",
       "      <td>No</td>\n",
       "      <td>Travel_Rarely</td>\n",
       "      <td>Research &amp; Development</td>\n",
       "      <td>Greater than 25</td>\n",
       "      <td>13</td>\n",
       "      <td>2</td>\n",
       "      <td>Healthcare Representative</td>\n",
       "      <td>3</td>\n",
       "      <td>5001 - 7500</td>\n",
       "      <td>6</td>\n",
       "      <td>6 - 10</td>\n",
       "    </tr>\n",
       "    <tr>\n",
       "      <th>10</th>\n",
       "      <td>31 - 35</td>\n",
       "      <td>No</td>\n",
       "      <td>Travel_Rarely</td>\n",
       "      <td>Research &amp; Development</td>\n",
       "      <td>16 - 20</td>\n",
       "      <td>14</td>\n",
       "      <td>1</td>\n",
       "      <td>Laboratory Technician</td>\n",
       "      <td>2</td>\n",
       "      <td>1 - 2500</td>\n",
       "      <td>0</td>\n",
       "      <td>0 - 5</td>\n",
       "    </tr>\n",
       "    <tr>\n",
       "      <th>11</th>\n",
       "      <td>26 - 30</td>\n",
       "      <td>No</td>\n",
       "      <td>Travel_Rarely</td>\n",
       "      <td>Research &amp; Development</td>\n",
       "      <td>11 - 15</td>\n",
       "      <td>15</td>\n",
       "      <td>2</td>\n",
       "      <td>Laboratory Technician</td>\n",
       "      <td>3</td>\n",
       "      <td>2501 - 5000</td>\n",
       "      <td>0</td>\n",
       "      <td>6 - 10</td>\n",
       "    </tr>\n",
       "    <tr>\n",
       "      <th>12</th>\n",
       "      <td>31 - 35</td>\n",
       "      <td>No</td>\n",
       "      <td>Travel_Rarely</td>\n",
       "      <td>Research &amp; Development</td>\n",
       "      <td>Greater than 25</td>\n",
       "      <td>16</td>\n",
       "      <td>1</td>\n",
       "      <td>Research Scientist</td>\n",
       "      <td>3</td>\n",
       "      <td>2501 - 5000</td>\n",
       "      <td>1</td>\n",
       "      <td>0 - 5</td>\n",
       "    </tr>\n",
       "    <tr>\n",
       "      <th>13</th>\n",
       "      <td>31 - 35</td>\n",
       "      <td>No</td>\n",
       "      <td>Travel_Rarely</td>\n",
       "      <td>Research &amp; Development</td>\n",
       "      <td>16 - 20</td>\n",
       "      <td>18</td>\n",
       "      <td>1</td>\n",
       "      <td>Laboratory Technician</td>\n",
       "      <td>4</td>\n",
       "      <td>2501 - 5000</td>\n",
       "      <td>0</td>\n",
       "      <td>0 - 5</td>\n",
       "    </tr>\n",
       "    <tr>\n",
       "      <th>14</th>\n",
       "      <td>26 - 30</td>\n",
       "      <td>Yes</td>\n",
       "      <td>Travel_Rarely</td>\n",
       "      <td>Research &amp; Development</td>\n",
       "      <td>21 - 25</td>\n",
       "      <td>19</td>\n",
       "      <td>1</td>\n",
       "      <td>Laboratory Technician</td>\n",
       "      <td>3</td>\n",
       "      <td>1 - 2500</td>\n",
       "      <td>5</td>\n",
       "      <td>0 - 5</td>\n",
       "    </tr>\n",
       "    <tr>\n",
       "      <th>15</th>\n",
       "      <td>26 - 30</td>\n",
       "      <td>No</td>\n",
       "      <td>Travel_Rarely</td>\n",
       "      <td>Research &amp; Development</td>\n",
       "      <td>21 - 25</td>\n",
       "      <td>20</td>\n",
       "      <td>3</td>\n",
       "      <td>Manufacturing Director</td>\n",
       "      <td>1</td>\n",
       "      <td>7501 - 10000</td>\n",
       "      <td>1</td>\n",
       "      <td>6 - 10</td>\n",
       "    </tr>\n",
       "    <tr>\n",
       "      <th>16</th>\n",
       "      <td>31 - 35</td>\n",
       "      <td>No</td>\n",
       "      <td>Travel_Rarely</td>\n",
       "      <td>Research &amp; Development</td>\n",
       "      <td>0 - 5</td>\n",
       "      <td>21</td>\n",
       "      <td>1</td>\n",
       "      <td>Research Scientist</td>\n",
       "      <td>2</td>\n",
       "      <td>2501 - 5000</td>\n",
       "      <td>0</td>\n",
       "      <td>6 - 10</td>\n",
       "    </tr>\n",
       "    <tr>\n",
       "      <th>17</th>\n",
       "      <td>21 - 25</td>\n",
       "      <td>No</td>\n",
       "      <td>Non-Travel</td>\n",
       "      <td>Research &amp; Development</td>\n",
       "      <td>16 - 20</td>\n",
       "      <td>22</td>\n",
       "      <td>1</td>\n",
       "      <td>Laboratory Technician</td>\n",
       "      <td>4</td>\n",
       "      <td>2501 - 5000</td>\n",
       "      <td>1</td>\n",
       "      <td>0 - 5</td>\n",
       "    </tr>\n",
       "    <tr>\n",
       "      <th>18</th>\n",
       "      <td>51 - 55</td>\n",
       "      <td>No</td>\n",
       "      <td>Travel_Rarely</td>\n",
       "      <td>Sales</td>\n",
       "      <td>0 - 5</td>\n",
       "      <td>23</td>\n",
       "      <td>4</td>\n",
       "      <td>Manager</td>\n",
       "      <td>4</td>\n",
       "      <td>15001 - 17500</td>\n",
       "      <td>2</td>\n",
       "      <td>21 - 25</td>\n",
       "    </tr>\n",
       "    <tr>\n",
       "      <th>19</th>\n",
       "      <td>36 - 40</td>\n",
       "      <td>No</td>\n",
       "      <td>Travel_Rarely</td>\n",
       "      <td>Research &amp; Development</td>\n",
       "      <td>0 - 5</td>\n",
       "      <td>24</td>\n",
       "      <td>1</td>\n",
       "      <td>Research Scientist</td>\n",
       "      <td>4</td>\n",
       "      <td>2501 - 5000</td>\n",
       "      <td>5</td>\n",
       "      <td>0 - 5</td>\n",
       "    </tr>\n",
       "    <tr>\n",
       "      <th>20</th>\n",
       "      <td>21 - 25</td>\n",
       "      <td>No</td>\n",
       "      <td>Non-Travel</td>\n",
       "      <td>Research &amp; Development</td>\n",
       "      <td>11 - 15</td>\n",
       "      <td>26</td>\n",
       "      <td>2</td>\n",
       "      <td>Manufacturing Director</td>\n",
       "      <td>3</td>\n",
       "      <td>2501 - 5000</td>\n",
       "      <td>0</td>\n",
       "      <td>0 - 5</td>\n",
       "    </tr>\n",
       "    <tr>\n",
       "      <th>21</th>\n",
       "      <td>36 - 40</td>\n",
       "      <td>Yes</td>\n",
       "      <td>Travel_Rarely</td>\n",
       "      <td>Sales</td>\n",
       "      <td>6 - 10</td>\n",
       "      <td>27</td>\n",
       "      <td>1</td>\n",
       "      <td>Sales Representative</td>\n",
       "      <td>1</td>\n",
       "      <td>2501 - 5000</td>\n",
       "      <td>7</td>\n",
       "      <td>0 - 5</td>\n",
       "    </tr>\n",
       "    <tr>\n",
       "      <th>22</th>\n",
       "      <td>31 - 35</td>\n",
       "      <td>No</td>\n",
       "      <td>Travel_Rarely</td>\n",
       "      <td>Research &amp; Development</td>\n",
       "      <td>6 - 10</td>\n",
       "      <td>28</td>\n",
       "      <td>3</td>\n",
       "      <td>Research Director</td>\n",
       "      <td>2</td>\n",
       "      <td>10001 - 12500</td>\n",
       "      <td>0</td>\n",
       "      <td>11 - 15</td>\n",
       "    </tr>\n",
       "    <tr>\n",
       "      <th>23</th>\n",
       "      <td>21 - 25</td>\n",
       "      <td>No</td>\n",
       "      <td>Travel_Rarely</td>\n",
       "      <td>Research &amp; Development</td>\n",
       "      <td>11 - 15</td>\n",
       "      <td>30</td>\n",
       "      <td>1</td>\n",
       "      <td>Research Scientist</td>\n",
       "      <td>4</td>\n",
       "      <td>1 - 2500</td>\n",
       "      <td>1</td>\n",
       "      <td>0 - 5</td>\n",
       "    </tr>\n",
       "    <tr>\n",
       "      <th>24</th>\n",
       "      <td>31 - 35</td>\n",
       "      <td>Yes</td>\n",
       "      <td>Travel_Rarely</td>\n",
       "      <td>Research &amp; Development</td>\n",
       "      <td>6 - 10</td>\n",
       "      <td>31</td>\n",
       "      <td>1</td>\n",
       "      <td>Research Scientist</td>\n",
       "      <td>1</td>\n",
       "      <td>2501 - 5000</td>\n",
       "      <td>2</td>\n",
       "      <td>0 - 5</td>\n",
       "    </tr>\n",
       "    <tr>\n",
       "      <th>25</th>\n",
       "      <td>51 - 55</td>\n",
       "      <td>No</td>\n",
       "      <td>Travel_Rarely</td>\n",
       "      <td>Research &amp; Development</td>\n",
       "      <td>0 - 5</td>\n",
       "      <td>32</td>\n",
       "      <td>5</td>\n",
       "      <td>Manager</td>\n",
       "      <td>3</td>\n",
       "      <td>Greather than 17501</td>\n",
       "      <td>4</td>\n",
       "      <td>11 - 15</td>\n",
       "    </tr>\n",
       "    <tr>\n",
       "      <th>26</th>\n",
       "      <td>31 - 35</td>\n",
       "      <td>Yes</td>\n",
       "      <td>Travel_Frequently</td>\n",
       "      <td>Research &amp; Development</td>\n",
       "      <td>16 - 20</td>\n",
       "      <td>33</td>\n",
       "      <td>1</td>\n",
       "      <td>Research Scientist</td>\n",
       "      <td>1</td>\n",
       "      <td>2501 - 5000</td>\n",
       "      <td>1</td>\n",
       "      <td>6 - 10</td>\n",
       "    </tr>\n",
       "    <tr>\n",
       "      <th>27</th>\n",
       "      <td>41 - 45</td>\n",
       "      <td>No</td>\n",
       "      <td>Travel_Rarely</td>\n",
       "      <td>Sales</td>\n",
       "      <td>6 - 10</td>\n",
       "      <td>35</td>\n",
       "      <td>2</td>\n",
       "      <td>Sales Executive</td>\n",
       "      <td>2</td>\n",
       "      <td>5001 - 7500</td>\n",
       "      <td>0</td>\n",
       "      <td>6 - 10</td>\n",
       "    </tr>\n",
       "    <tr>\n",
       "      <th>28</th>\n",
       "      <td>41 - 45</td>\n",
       "      <td>No</td>\n",
       "      <td>Travel_Rarely</td>\n",
       "      <td>Research &amp; Development</td>\n",
       "      <td>6 - 10</td>\n",
       "      <td>36</td>\n",
       "      <td>3</td>\n",
       "      <td>Healthcare Representative</td>\n",
       "      <td>4</td>\n",
       "      <td>10001 - 12500</td>\n",
       "      <td>3</td>\n",
       "      <td>21 - 25</td>\n",
       "    </tr>\n",
       "    <tr>\n",
       "      <th>29</th>\n",
       "      <td>46 - 50</td>\n",
       "      <td>No</td>\n",
       "      <td>Travel_Rarely</td>\n",
       "      <td>Sales</td>\n",
       "      <td>0 - 5</td>\n",
       "      <td>38</td>\n",
       "      <td>5</td>\n",
       "      <td>Manager</td>\n",
       "      <td>1</td>\n",
       "      <td>Greather than 17501</td>\n",
       "      <td>3</td>\n",
       "      <td>0 - 5</td>\n",
       "    </tr>\n",
       "    <tr>\n",
       "      <th>...</th>\n",
       "      <td>...</td>\n",
       "      <td>...</td>\n",
       "      <td>...</td>\n",
       "      <td>...</td>\n",
       "      <td>...</td>\n",
       "      <td>...</td>\n",
       "      <td>...</td>\n",
       "      <td>...</td>\n",
       "      <td>...</td>\n",
       "      <td>...</td>\n",
       "      <td>...</td>\n",
       "      <td>...</td>\n",
       "    </tr>\n",
       "    <tr>\n",
       "      <th>1440</th>\n",
       "      <td>36 - 40</td>\n",
       "      <td>No</td>\n",
       "      <td>Travel_Frequently</td>\n",
       "      <td>Research &amp; Development</td>\n",
       "      <td>0 - 5</td>\n",
       "      <td>2025</td>\n",
       "      <td>2</td>\n",
       "      <td>Manufacturing Director</td>\n",
       "      <td>2</td>\n",
       "      <td>5001 - 7500</td>\n",
       "      <td>7</td>\n",
       "      <td>0 - 5</td>\n",
       "    </tr>\n",
       "    <tr>\n",
       "      <th>1441</th>\n",
       "      <td>Greater than 55</td>\n",
       "      <td>No</td>\n",
       "      <td>Non-Travel</td>\n",
       "      <td>Research &amp; Development</td>\n",
       "      <td>0 - 5</td>\n",
       "      <td>2026</td>\n",
       "      <td>2</td>\n",
       "      <td>Healthcare Representative</td>\n",
       "      <td>3</td>\n",
       "      <td>5001 - 7500</td>\n",
       "      <td>1</td>\n",
       "      <td>11 - 15</td>\n",
       "    </tr>\n",
       "    <tr>\n",
       "      <th>1442</th>\n",
       "      <td>26 - 30</td>\n",
       "      <td>Yes</td>\n",
       "      <td>Travel_Rarely</td>\n",
       "      <td>Research &amp; Development</td>\n",
       "      <td>0 - 5</td>\n",
       "      <td>2027</td>\n",
       "      <td>1</td>\n",
       "      <td>Research Scientist</td>\n",
       "      <td>4</td>\n",
       "      <td>2501 - 5000</td>\n",
       "      <td>9</td>\n",
       "      <td>0 - 5</td>\n",
       "    </tr>\n",
       "    <tr>\n",
       "      <th>1443</th>\n",
       "      <td>41 - 45</td>\n",
       "      <td>No</td>\n",
       "      <td>Travel_Rarely</td>\n",
       "      <td>Research &amp; Development</td>\n",
       "      <td>0 - 5</td>\n",
       "      <td>2031</td>\n",
       "      <td>5</td>\n",
       "      <td>Manager</td>\n",
       "      <td>3</td>\n",
       "      <td>Greather than 17501</td>\n",
       "      <td>5</td>\n",
       "      <td>21 - 25</td>\n",
       "    </tr>\n",
       "    <tr>\n",
       "      <th>1444</th>\n",
       "      <td>Greater than 55</td>\n",
       "      <td>Yes</td>\n",
       "      <td>Travel_Rarely</td>\n",
       "      <td>Research &amp; Development</td>\n",
       "      <td>6 - 10</td>\n",
       "      <td>2032</td>\n",
       "      <td>1</td>\n",
       "      <td>Laboratory Technician</td>\n",
       "      <td>3</td>\n",
       "      <td>1 - 2500</td>\n",
       "      <td>8</td>\n",
       "      <td>6 - 10</td>\n",
       "    </tr>\n",
       "    <tr>\n",
       "      <th>1445</th>\n",
       "      <td>41 - 45</td>\n",
       "      <td>No</td>\n",
       "      <td>Travel_Rarely</td>\n",
       "      <td>Research &amp; Development</td>\n",
       "      <td>Greater than 25</td>\n",
       "      <td>2034</td>\n",
       "      <td>4</td>\n",
       "      <td>Manufacturing Director</td>\n",
       "      <td>2</td>\n",
       "      <td>12501 - 15000</td>\n",
       "      <td>0</td>\n",
       "      <td>16 - 20</td>\n",
       "    </tr>\n",
       "    <tr>\n",
       "      <th>1446</th>\n",
       "      <td>31 - 35</td>\n",
       "      <td>No</td>\n",
       "      <td>Travel_Rarely</td>\n",
       "      <td>Sales</td>\n",
       "      <td>Greater than 25</td>\n",
       "      <td>2035</td>\n",
       "      <td>2</td>\n",
       "      <td>Sales Executive</td>\n",
       "      <td>3</td>\n",
       "      <td>5001 - 7500</td>\n",
       "      <td>1</td>\n",
       "      <td>6 - 10</td>\n",
       "    </tr>\n",
       "    <tr>\n",
       "      <th>1447</th>\n",
       "      <td>36 - 40</td>\n",
       "      <td>No</td>\n",
       "      <td>Non-Travel</td>\n",
       "      <td>Sales</td>\n",
       "      <td>11 - 15</td>\n",
       "      <td>2036</td>\n",
       "      <td>2</td>\n",
       "      <td>Sales Executive</td>\n",
       "      <td>4</td>\n",
       "      <td>5001 - 7500</td>\n",
       "      <td>1</td>\n",
       "      <td>11 - 15</td>\n",
       "    </tr>\n",
       "    <tr>\n",
       "      <th>1448</th>\n",
       "      <td>41 - 45</td>\n",
       "      <td>No</td>\n",
       "      <td>Travel_Rarely</td>\n",
       "      <td>Sales</td>\n",
       "      <td>0 - 5</td>\n",
       "      <td>2037</td>\n",
       "      <td>2</td>\n",
       "      <td>Sales Executive</td>\n",
       "      <td>2</td>\n",
       "      <td>7501 - 10000</td>\n",
       "      <td>2</td>\n",
       "      <td>0 - 5</td>\n",
       "    </tr>\n",
       "    <tr>\n",
       "      <th>1449</th>\n",
       "      <td>31 - 35</td>\n",
       "      <td>No</td>\n",
       "      <td>Travel_Rarely</td>\n",
       "      <td>Research &amp; Development</td>\n",
       "      <td>0 - 5</td>\n",
       "      <td>2038</td>\n",
       "      <td>1</td>\n",
       "      <td>Research Scientist</td>\n",
       "      <td>1</td>\n",
       "      <td>1 - 2500</td>\n",
       "      <td>1</td>\n",
       "      <td>0 - 5</td>\n",
       "    </tr>\n",
       "    <tr>\n",
       "      <th>1450</th>\n",
       "      <td>31 - 35</td>\n",
       "      <td>No</td>\n",
       "      <td>Travel_Rarely</td>\n",
       "      <td>Human Resources</td>\n",
       "      <td>Greater than 25</td>\n",
       "      <td>2040</td>\n",
       "      <td>3</td>\n",
       "      <td>Human Resources</td>\n",
       "      <td>4</td>\n",
       "      <td>7501 - 10000</td>\n",
       "      <td>1</td>\n",
       "      <td>6 - 10</td>\n",
       "    </tr>\n",
       "    <tr>\n",
       "      <th>1451</th>\n",
       "      <td>36 - 40</td>\n",
       "      <td>No</td>\n",
       "      <td>Travel_Rarely</td>\n",
       "      <td>Sales</td>\n",
       "      <td>6 - 10</td>\n",
       "      <td>2041</td>\n",
       "      <td>2</td>\n",
       "      <td>Sales Executive</td>\n",
       "      <td>4</td>\n",
       "      <td>5001 - 7500</td>\n",
       "      <td>1</td>\n",
       "      <td>6 - 10</td>\n",
       "    </tr>\n",
       "    <tr>\n",
       "      <th>1452</th>\n",
       "      <td>46 - 50</td>\n",
       "      <td>Yes</td>\n",
       "      <td>Travel_Frequently</td>\n",
       "      <td>Sales</td>\n",
       "      <td>0 - 5</td>\n",
       "      <td>2044</td>\n",
       "      <td>2</td>\n",
       "      <td>Sales Executive</td>\n",
       "      <td>3</td>\n",
       "      <td>5001 - 7500</td>\n",
       "      <td>7</td>\n",
       "      <td>6 - 10</td>\n",
       "    </tr>\n",
       "    <tr>\n",
       "      <th>1453</th>\n",
       "      <td>36 - 40</td>\n",
       "      <td>No</td>\n",
       "      <td>Travel_Rarely</td>\n",
       "      <td>Sales</td>\n",
       "      <td>11 - 15</td>\n",
       "      <td>2045</td>\n",
       "      <td>2</td>\n",
       "      <td>Sales Executive</td>\n",
       "      <td>4</td>\n",
       "      <td>5001 - 7500</td>\n",
       "      <td>4</td>\n",
       "      <td>6 - 10</td>\n",
       "    </tr>\n",
       "    <tr>\n",
       "      <th>1454</th>\n",
       "      <td>41 - 45</td>\n",
       "      <td>No</td>\n",
       "      <td>Travel_Rarely</td>\n",
       "      <td>Sales</td>\n",
       "      <td>16 - 20</td>\n",
       "      <td>2046</td>\n",
       "      <td>2</td>\n",
       "      <td>Sales Executive</td>\n",
       "      <td>3</td>\n",
       "      <td>2501 - 5000</td>\n",
       "      <td>8</td>\n",
       "      <td>0 - 5</td>\n",
       "    </tr>\n",
       "    <tr>\n",
       "      <th>1455</th>\n",
       "      <td>36 - 40</td>\n",
       "      <td>No</td>\n",
       "      <td>Travel_Rarely</td>\n",
       "      <td>Research &amp; Development</td>\n",
       "      <td>0 - 5</td>\n",
       "      <td>2048</td>\n",
       "      <td>1</td>\n",
       "      <td>Research Scientist</td>\n",
       "      <td>3</td>\n",
       "      <td>2501 - 5000</td>\n",
       "      <td>2</td>\n",
       "      <td>0 - 5</td>\n",
       "    </tr>\n",
       "    <tr>\n",
       "      <th>1456</th>\n",
       "      <td>31 - 35</td>\n",
       "      <td>No</td>\n",
       "      <td>Travel_Frequently</td>\n",
       "      <td>Research &amp; Development</td>\n",
       "      <td>16 - 20</td>\n",
       "      <td>2049</td>\n",
       "      <td>2</td>\n",
       "      <td>Healthcare Representative</td>\n",
       "      <td>3</td>\n",
       "      <td>5001 - 7500</td>\n",
       "      <td>1</td>\n",
       "      <td>6 - 10</td>\n",
       "    </tr>\n",
       "    <tr>\n",
       "      <th>1457</th>\n",
       "      <td>36 - 40</td>\n",
       "      <td>No</td>\n",
       "      <td>Travel_Rarely</td>\n",
       "      <td>Research &amp; Development</td>\n",
       "      <td>0 - 5</td>\n",
       "      <td>2051</td>\n",
       "      <td>1</td>\n",
       "      <td>Research Scientist</td>\n",
       "      <td>3</td>\n",
       "      <td>1 - 2500</td>\n",
       "      <td>2</td>\n",
       "      <td>0 - 5</td>\n",
       "    </tr>\n",
       "    <tr>\n",
       "      <th>1458</th>\n",
       "      <td>31 - 35</td>\n",
       "      <td>No</td>\n",
       "      <td>Travel_Rarely</td>\n",
       "      <td>Research &amp; Development</td>\n",
       "      <td>0 - 5</td>\n",
       "      <td>2052</td>\n",
       "      <td>1</td>\n",
       "      <td>Research Scientist</td>\n",
       "      <td>4</td>\n",
       "      <td>2501 - 5000</td>\n",
       "      <td>1</td>\n",
       "      <td>0 - 5</td>\n",
       "    </tr>\n",
       "    <tr>\n",
       "      <th>1459</th>\n",
       "      <td>26 - 30</td>\n",
       "      <td>No</td>\n",
       "      <td>Travel_Rarely</td>\n",
       "      <td>Research &amp; Development</td>\n",
       "      <td>11 - 15</td>\n",
       "      <td>2053</td>\n",
       "      <td>2</td>\n",
       "      <td>Laboratory Technician</td>\n",
       "      <td>2</td>\n",
       "      <td>2501 - 5000</td>\n",
       "      <td>4</td>\n",
       "      <td>0 - 5</td>\n",
       "    </tr>\n",
       "    <tr>\n",
       "      <th>1460</th>\n",
       "      <td>26 - 30</td>\n",
       "      <td>No</td>\n",
       "      <td>Travel_Rarely</td>\n",
       "      <td>Research &amp; Development</td>\n",
       "      <td>Greater than 25</td>\n",
       "      <td>2054</td>\n",
       "      <td>1</td>\n",
       "      <td>Research Scientist</td>\n",
       "      <td>1</td>\n",
       "      <td>2501 - 5000</td>\n",
       "      <td>1</td>\n",
       "      <td>0 - 5</td>\n",
       "    </tr>\n",
       "    <tr>\n",
       "      <th>1461</th>\n",
       "      <td>46 - 50</td>\n",
       "      <td>Yes</td>\n",
       "      <td>Travel_Rarely</td>\n",
       "      <td>Sales</td>\n",
       "      <td>Greater than 25</td>\n",
       "      <td>2055</td>\n",
       "      <td>3</td>\n",
       "      <td>Sales Executive</td>\n",
       "      <td>1</td>\n",
       "      <td>10001 - 12500</td>\n",
       "      <td>4</td>\n",
       "      <td>0 - 5</td>\n",
       "    </tr>\n",
       "    <tr>\n",
       "      <th>1462</th>\n",
       "      <td>36 - 40</td>\n",
       "      <td>No</td>\n",
       "      <td>Travel_Rarely</td>\n",
       "      <td>Sales</td>\n",
       "      <td>21 - 25</td>\n",
       "      <td>2056</td>\n",
       "      <td>4</td>\n",
       "      <td>Sales Executive</td>\n",
       "      <td>4</td>\n",
       "      <td>10001 - 12500</td>\n",
       "      <td>0</td>\n",
       "      <td>16 - 20</td>\n",
       "    </tr>\n",
       "    <tr>\n",
       "      <th>1463</th>\n",
       "      <td>31 - 35</td>\n",
       "      <td>No</td>\n",
       "      <td>Non-Travel</td>\n",
       "      <td>Research &amp; Development</td>\n",
       "      <td>0 - 5</td>\n",
       "      <td>2057</td>\n",
       "      <td>2</td>\n",
       "      <td>Manufacturing Director</td>\n",
       "      <td>1</td>\n",
       "      <td>7501 - 10000</td>\n",
       "      <td>0</td>\n",
       "      <td>6 - 10</td>\n",
       "    </tr>\n",
       "    <tr>\n",
       "      <th>1464</th>\n",
       "      <td>26 - 30</td>\n",
       "      <td>No</td>\n",
       "      <td>Travel_Rarely</td>\n",
       "      <td>Sales</td>\n",
       "      <td>0 - 5</td>\n",
       "      <td>2060</td>\n",
       "      <td>1</td>\n",
       "      <td>Sales Representative</td>\n",
       "      <td>3</td>\n",
       "      <td>2501 - 5000</td>\n",
       "      <td>0</td>\n",
       "      <td>0 - 5</td>\n",
       "    </tr>\n",
       "    <tr>\n",
       "      <th>1465</th>\n",
       "      <td>36 - 40</td>\n",
       "      <td>No</td>\n",
       "      <td>Travel_Frequently</td>\n",
       "      <td>Research &amp; Development</td>\n",
       "      <td>21 - 25</td>\n",
       "      <td>2061</td>\n",
       "      <td>2</td>\n",
       "      <td>Laboratory Technician</td>\n",
       "      <td>4</td>\n",
       "      <td>2501 - 5000</td>\n",
       "      <td>4</td>\n",
       "      <td>0 - 5</td>\n",
       "    </tr>\n",
       "    <tr>\n",
       "      <th>1466</th>\n",
       "      <td>36 - 40</td>\n",
       "      <td>No</td>\n",
       "      <td>Travel_Rarely</td>\n",
       "      <td>Research &amp; Development</td>\n",
       "      <td>6 - 10</td>\n",
       "      <td>2062</td>\n",
       "      <td>3</td>\n",
       "      <td>Healthcare Representative</td>\n",
       "      <td>1</td>\n",
       "      <td>7501 - 10000</td>\n",
       "      <td>4</td>\n",
       "      <td>6 - 10</td>\n",
       "    </tr>\n",
       "    <tr>\n",
       "      <th>1467</th>\n",
       "      <td>26 - 30</td>\n",
       "      <td>No</td>\n",
       "      <td>Travel_Rarely</td>\n",
       "      <td>Research &amp; Development</td>\n",
       "      <td>0 - 5</td>\n",
       "      <td>2064</td>\n",
       "      <td>2</td>\n",
       "      <td>Manufacturing Director</td>\n",
       "      <td>2</td>\n",
       "      <td>5001 - 7500</td>\n",
       "      <td>1</td>\n",
       "      <td>6 - 10</td>\n",
       "    </tr>\n",
       "    <tr>\n",
       "      <th>1468</th>\n",
       "      <td>46 - 50</td>\n",
       "      <td>No</td>\n",
       "      <td>Travel_Frequently</td>\n",
       "      <td>Sales</td>\n",
       "      <td>0 - 5</td>\n",
       "      <td>2065</td>\n",
       "      <td>2</td>\n",
       "      <td>Sales Executive</td>\n",
       "      <td>2</td>\n",
       "      <td>5001 - 7500</td>\n",
       "      <td>2</td>\n",
       "      <td>6 - 10</td>\n",
       "    </tr>\n",
       "    <tr>\n",
       "      <th>1469</th>\n",
       "      <td>31 - 35</td>\n",
       "      <td>No</td>\n",
       "      <td>Travel_Rarely</td>\n",
       "      <td>Research &amp; Development</td>\n",
       "      <td>6 - 10</td>\n",
       "      <td>2068</td>\n",
       "      <td>2</td>\n",
       "      <td>Laboratory Technician</td>\n",
       "      <td>3</td>\n",
       "      <td>2501 - 5000</td>\n",
       "      <td>2</td>\n",
       "      <td>0 - 5</td>\n",
       "    </tr>\n",
       "  </tbody>\n",
       "</table>\n",
       "<p>1470 rows × 12 columns</p>\n",
       "</div>"
      ],
      "text/plain": [
       "                  Age Attrition     BusinessTravel              Department  \\\n",
       "0             41 - 45       Yes      Travel_Rarely                   Sales   \n",
       "1             46 - 50        No  Travel_Frequently  Research & Development   \n",
       "2             36 - 40       Yes      Travel_Rarely  Research & Development   \n",
       "3             31 - 35        No  Travel_Frequently  Research & Development   \n",
       "4             26 - 30        No      Travel_Rarely  Research & Development   \n",
       "5             31 - 35        No  Travel_Frequently  Research & Development   \n",
       "6     Greater than 55        No      Travel_Rarely  Research & Development   \n",
       "7             26 - 30        No      Travel_Rarely  Research & Development   \n",
       "8             36 - 40        No  Travel_Frequently  Research & Development   \n",
       "9             36 - 40        No      Travel_Rarely  Research & Development   \n",
       "10            31 - 35        No      Travel_Rarely  Research & Development   \n",
       "11            26 - 30        No      Travel_Rarely  Research & Development   \n",
       "12            31 - 35        No      Travel_Rarely  Research & Development   \n",
       "13            31 - 35        No      Travel_Rarely  Research & Development   \n",
       "14            26 - 30       Yes      Travel_Rarely  Research & Development   \n",
       "15            26 - 30        No      Travel_Rarely  Research & Development   \n",
       "16            31 - 35        No      Travel_Rarely  Research & Development   \n",
       "17            21 - 25        No         Non-Travel  Research & Development   \n",
       "18            51 - 55        No      Travel_Rarely                   Sales   \n",
       "19            36 - 40        No      Travel_Rarely  Research & Development   \n",
       "20            21 - 25        No         Non-Travel  Research & Development   \n",
       "21            36 - 40       Yes      Travel_Rarely                   Sales   \n",
       "22            31 - 35        No      Travel_Rarely  Research & Development   \n",
       "23            21 - 25        No      Travel_Rarely  Research & Development   \n",
       "24            31 - 35       Yes      Travel_Rarely  Research & Development   \n",
       "25            51 - 55        No      Travel_Rarely  Research & Development   \n",
       "26            31 - 35       Yes  Travel_Frequently  Research & Development   \n",
       "27            41 - 45        No      Travel_Rarely                   Sales   \n",
       "28            41 - 45        No      Travel_Rarely  Research & Development   \n",
       "29            46 - 50        No      Travel_Rarely                   Sales   \n",
       "...               ...       ...                ...                     ...   \n",
       "1440          36 - 40        No  Travel_Frequently  Research & Development   \n",
       "1441  Greater than 55        No         Non-Travel  Research & Development   \n",
       "1442          26 - 30       Yes      Travel_Rarely  Research & Development   \n",
       "1443          41 - 45        No      Travel_Rarely  Research & Development   \n",
       "1444  Greater than 55       Yes      Travel_Rarely  Research & Development   \n",
       "1445          41 - 45        No      Travel_Rarely  Research & Development   \n",
       "1446          31 - 35        No      Travel_Rarely                   Sales   \n",
       "1447          36 - 40        No         Non-Travel                   Sales   \n",
       "1448          41 - 45        No      Travel_Rarely                   Sales   \n",
       "1449          31 - 35        No      Travel_Rarely  Research & Development   \n",
       "1450          31 - 35        No      Travel_Rarely         Human Resources   \n",
       "1451          36 - 40        No      Travel_Rarely                   Sales   \n",
       "1452          46 - 50       Yes  Travel_Frequently                   Sales   \n",
       "1453          36 - 40        No      Travel_Rarely                   Sales   \n",
       "1454          41 - 45        No      Travel_Rarely                   Sales   \n",
       "1455          36 - 40        No      Travel_Rarely  Research & Development   \n",
       "1456          31 - 35        No  Travel_Frequently  Research & Development   \n",
       "1457          36 - 40        No      Travel_Rarely  Research & Development   \n",
       "1458          31 - 35        No      Travel_Rarely  Research & Development   \n",
       "1459          26 - 30        No      Travel_Rarely  Research & Development   \n",
       "1460          26 - 30        No      Travel_Rarely  Research & Development   \n",
       "1461          46 - 50       Yes      Travel_Rarely                   Sales   \n",
       "1462          36 - 40        No      Travel_Rarely                   Sales   \n",
       "1463          31 - 35        No         Non-Travel  Research & Development   \n",
       "1464          26 - 30        No      Travel_Rarely                   Sales   \n",
       "1465          36 - 40        No  Travel_Frequently  Research & Development   \n",
       "1466          36 - 40        No      Travel_Rarely  Research & Development   \n",
       "1467          26 - 30        No      Travel_Rarely  Research & Development   \n",
       "1468          46 - 50        No  Travel_Frequently                   Sales   \n",
       "1469          31 - 35        No      Travel_Rarely  Research & Development   \n",
       "\n",
       "     DistanceFromHome  EmployeeNumber  JobLevel                    JobRole  \\\n",
       "0               0 - 5               1         2            Sales Executive   \n",
       "1              6 - 10               2         2         Research Scientist   \n",
       "2               0 - 5               4         1      Laboratory Technician   \n",
       "3               0 - 5               5         1         Research Scientist   \n",
       "4               0 - 5               7         1      Laboratory Technician   \n",
       "5               0 - 5               8         1      Laboratory Technician   \n",
       "6               0 - 5              10         1      Laboratory Technician   \n",
       "7             21 - 25              11         1      Laboratory Technician   \n",
       "8             21 - 25              12         3     Manufacturing Director   \n",
       "9     Greater than 25              13         2  Healthcare Representative   \n",
       "10            16 - 20              14         1      Laboratory Technician   \n",
       "11            11 - 15              15         2      Laboratory Technician   \n",
       "12    Greater than 25              16         1         Research Scientist   \n",
       "13            16 - 20              18         1      Laboratory Technician   \n",
       "14            21 - 25              19         1      Laboratory Technician   \n",
       "15            21 - 25              20         3     Manufacturing Director   \n",
       "16              0 - 5              21         1         Research Scientist   \n",
       "17            16 - 20              22         1      Laboratory Technician   \n",
       "18              0 - 5              23         4                    Manager   \n",
       "19              0 - 5              24         1         Research Scientist   \n",
       "20            11 - 15              26         2     Manufacturing Director   \n",
       "21             6 - 10              27         1       Sales Representative   \n",
       "22             6 - 10              28         3          Research Director   \n",
       "23            11 - 15              30         1         Research Scientist   \n",
       "24             6 - 10              31         1         Research Scientist   \n",
       "25              0 - 5              32         5                    Manager   \n",
       "26            16 - 20              33         1         Research Scientist   \n",
       "27             6 - 10              35         2            Sales Executive   \n",
       "28             6 - 10              36         3  Healthcare Representative   \n",
       "29              0 - 5              38         5                    Manager   \n",
       "...               ...             ...       ...                        ...   \n",
       "1440            0 - 5            2025         2     Manufacturing Director   \n",
       "1441            0 - 5            2026         2  Healthcare Representative   \n",
       "1442            0 - 5            2027         1         Research Scientist   \n",
       "1443            0 - 5            2031         5                    Manager   \n",
       "1444           6 - 10            2032         1      Laboratory Technician   \n",
       "1445  Greater than 25            2034         4     Manufacturing Director   \n",
       "1446  Greater than 25            2035         2            Sales Executive   \n",
       "1447          11 - 15            2036         2            Sales Executive   \n",
       "1448            0 - 5            2037         2            Sales Executive   \n",
       "1449            0 - 5            2038         1         Research Scientist   \n",
       "1450  Greater than 25            2040         3            Human Resources   \n",
       "1451           6 - 10            2041         2            Sales Executive   \n",
       "1452            0 - 5            2044         2            Sales Executive   \n",
       "1453          11 - 15            2045         2            Sales Executive   \n",
       "1454          16 - 20            2046         2            Sales Executive   \n",
       "1455            0 - 5            2048         1         Research Scientist   \n",
       "1456          16 - 20            2049         2  Healthcare Representative   \n",
       "1457            0 - 5            2051         1         Research Scientist   \n",
       "1458            0 - 5            2052         1         Research Scientist   \n",
       "1459          11 - 15            2053         2      Laboratory Technician   \n",
       "1460  Greater than 25            2054         1         Research Scientist   \n",
       "1461  Greater than 25            2055         3            Sales Executive   \n",
       "1462          21 - 25            2056         4            Sales Executive   \n",
       "1463            0 - 5            2057         2     Manufacturing Director   \n",
       "1464            0 - 5            2060         1       Sales Representative   \n",
       "1465          21 - 25            2061         2      Laboratory Technician   \n",
       "1466           6 - 10            2062         3  Healthcare Representative   \n",
       "1467            0 - 5            2064         2     Manufacturing Director   \n",
       "1468            0 - 5            2065         2            Sales Executive   \n",
       "1469           6 - 10            2068         2      Laboratory Technician   \n",
       "\n",
       "      JobSatisfaction        MonthlyIncome  NumCompaniesWorked YearsAtCompany  \n",
       "0                   4          5001 - 7500                   8         6 - 10  \n",
       "1                   2          5001 - 7500                   1         6 - 10  \n",
       "2                   3             1 - 2500                   6          0 - 5  \n",
       "3                   3          2501 - 5000                   1         6 - 10  \n",
       "4                   2          2501 - 5000                   9          0 - 5  \n",
       "5                   4          2501 - 5000                   0         6 - 10  \n",
       "6                   1          2501 - 5000                   4          0 - 5  \n",
       "7                   3          2501 - 5000                   1          0 - 5  \n",
       "8                   3         7501 - 10000                   0         6 - 10  \n",
       "9                   3          5001 - 7500                   6         6 - 10  \n",
       "10                  2             1 - 2500                   0          0 - 5  \n",
       "11                  3          2501 - 5000                   0         6 - 10  \n",
       "12                  3          2501 - 5000                   1          0 - 5  \n",
       "13                  4          2501 - 5000                   0          0 - 5  \n",
       "14                  3             1 - 2500                   5          0 - 5  \n",
       "15                  1         7501 - 10000                   1         6 - 10  \n",
       "16                  2          2501 - 5000                   0         6 - 10  \n",
       "17                  4          2501 - 5000                   1          0 - 5  \n",
       "18                  4        15001 - 17500                   2        21 - 25  \n",
       "19                  4          2501 - 5000                   5          0 - 5  \n",
       "20                  3          2501 - 5000                   0          0 - 5  \n",
       "21                  1          2501 - 5000                   7          0 - 5  \n",
       "22                  2        10001 - 12500                   0        11 - 15  \n",
       "23                  4             1 - 2500                   1          0 - 5  \n",
       "24                  1          2501 - 5000                   2          0 - 5  \n",
       "25                  3  Greather than 17501                   4        11 - 15  \n",
       "26                  1          2501 - 5000                   1         6 - 10  \n",
       "27                  2          5001 - 7500                   0         6 - 10  \n",
       "28                  4        10001 - 12500                   3        21 - 25  \n",
       "29                  1  Greather than 17501                   3          0 - 5  \n",
       "...               ...                  ...                 ...            ...  \n",
       "1440                2          5001 - 7500                   7          0 - 5  \n",
       "1441                3          5001 - 7500                   1        11 - 15  \n",
       "1442                4          2501 - 5000                   9          0 - 5  \n",
       "1443                3  Greather than 17501                   5        21 - 25  \n",
       "1444                3             1 - 2500                   8         6 - 10  \n",
       "1445                2        12501 - 15000                   0        16 - 20  \n",
       "1446                3          5001 - 7500                   1         6 - 10  \n",
       "1447                4          5001 - 7500                   1        11 - 15  \n",
       "1448                2         7501 - 10000                   2          0 - 5  \n",
       "1449                1             1 - 2500                   1          0 - 5  \n",
       "1450                4         7501 - 10000                   1         6 - 10  \n",
       "1451                4          5001 - 7500                   1         6 - 10  \n",
       "1452                3          5001 - 7500                   7         6 - 10  \n",
       "1453                4          5001 - 7500                   4         6 - 10  \n",
       "1454                3          2501 - 5000                   8          0 - 5  \n",
       "1455                3          2501 - 5000                   2          0 - 5  \n",
       "1456                3          5001 - 7500                   1         6 - 10  \n",
       "1457                3             1 - 2500                   2          0 - 5  \n",
       "1458                4          2501 - 5000                   1          0 - 5  \n",
       "1459                2          2501 - 5000                   4          0 - 5  \n",
       "1460                1          2501 - 5000                   1          0 - 5  \n",
       "1461                1        10001 - 12500                   4          0 - 5  \n",
       "1462                4        10001 - 12500                   0        16 - 20  \n",
       "1463                1         7501 - 10000                   0         6 - 10  \n",
       "1464                3          2501 - 5000                   0          0 - 5  \n",
       "1465                4          2501 - 5000                   4          0 - 5  \n",
       "1466                1         7501 - 10000                   4         6 - 10  \n",
       "1467                2          5001 - 7500                   1         6 - 10  \n",
       "1468                2          5001 - 7500                   2         6 - 10  \n",
       "1469                3          2501 - 5000                   2          0 - 5  \n",
       "\n",
       "[1470 rows x 12 columns]"
      ]
     },
     "execution_count": 695,
     "metadata": {},
     "output_type": "execute_result"
    }
   ],
   "source": [
    "df2"
   ]
  },
  {
   "cell_type": "markdown",
   "metadata": {},
   "source": [
    "Now, we export the dataset to CSV and use pivot table to analyze "
   ]
  },
  {
   "cell_type": "code",
   "execution_count": 696,
   "metadata": {},
   "outputs": [],
   "source": [
    "df2.to_csv('analyze.csv')"
   ]
  },
  {
   "cell_type": "markdown",
   "metadata": {},
   "source": [
    "Further Analysis is done in Excel, and the findings and recommendations are summarized in a word document"
   ]
  }
 ],
 "metadata": {
  "kernelspec": {
   "display_name": "Python 3",
   "language": "python",
   "name": "python3"
  },
  "language_info": {
   "codemirror_mode": {
    "name": "ipython",
    "version": 3
   },
   "file_extension": ".py",
   "mimetype": "text/x-python",
   "name": "python",
   "nbconvert_exporter": "python",
   "pygments_lexer": "ipython3",
   "version": "3.6.5"
  }
 },
 "nbformat": 4,
 "nbformat_minor": 2
}
